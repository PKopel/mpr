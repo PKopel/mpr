{
  "nbformat": 4,
  "nbformat_minor": 0,
  "metadata": {
    "colab": {
      "name": "Copy of Untitled3.ipynb",
      "provenance": [],
      "collapsed_sections": [],
      "authorship_tag": "ABX9TyM5eWUL4CFr/1Fh7uGaBDXm",
      "include_colab_link": true
    },
    "kernelspec": {
      "name": "python3",
      "display_name": "Python 3"
    },
    "language_info": {
      "name": "python"
    },
    "accelerator": "GPU"
  },
  "cells": [
    {
      "cell_type": "markdown",
      "metadata": {
        "id": "view-in-github",
        "colab_type": "text"
      },
      "source": [
        "<a href=\"https://colab.research.google.com/github/PKopel/mpr/blob/main/cuda/CUDA_vectors.ipynb\" target=\"_parent\"><img src=\"https://colab.research.google.com/assets/colab-badge.svg\" alt=\"Open In Colab\"/></a>"
      ]
    },
    {
      "cell_type": "code",
      "execution_count": null,
      "metadata": {
        "colab": {
          "base_uri": "https://localhost:8080/"
        },
        "id": "TgDhWe9OySof",
        "outputId": "a7cbcc8e-6274-48ac-92e4-4ee3869eef1c"
      },
      "outputs": [
        {
          "output_type": "stream",
          "name": "stdout",
          "text": [
            "nvcc: NVIDIA (R) Cuda compiler driver\n",
            "Copyright (c) 2005-2020 NVIDIA Corporation\n",
            "Built on Mon_Oct_12_20:09:46_PDT_2020\n",
            "Cuda compilation tools, release 11.1, V11.1.105\n",
            "Build cuda_11.1.TC455_06.29190527_0\n"
          ]
        }
      ],
      "source": [
        "!nvcc --version"
      ]
    },
    {
      "cell_type": "code",
      "source": [
        "!nvidia-smi"
      ],
      "metadata": {
        "colab": {
          "base_uri": "https://localhost:8080/"
        },
        "id": "EWg2Ampnyisu",
        "outputId": "5ce79dca-eacc-43ce-8f2f-339e07276c99"
      },
      "execution_count": null,
      "outputs": [
        {
          "output_type": "stream",
          "name": "stdout",
          "text": [
            "Mon May 30 22:06:01 2022       \n",
            "+-----------------------------------------------------------------------------+\n",
            "| NVIDIA-SMI 460.32.03    Driver Version: 460.32.03    CUDA Version: 11.2     |\n",
            "|-------------------------------+----------------------+----------------------+\n",
            "| GPU  Name        Persistence-M| Bus-Id        Disp.A | Volatile Uncorr. ECC |\n",
            "| Fan  Temp  Perf  Pwr:Usage/Cap|         Memory-Usage | GPU-Util  Compute M. |\n",
            "|                               |                      |               MIG M. |\n",
            "|===============================+======================+======================|\n",
            "|   0  Tesla T4            Off  | 00000000:00:04.0 Off |                    0 |\n",
            "| N/A   39C    P8     9W /  70W |      0MiB / 15109MiB |      0%      Default |\n",
            "|                               |                      |                  N/A |\n",
            "+-------------------------------+----------------------+----------------------+\n",
            "                                                                               \n",
            "+-----------------------------------------------------------------------------+\n",
            "| Processes:                                                                  |\n",
            "|  GPU   GI   CI        PID   Type   Process name                  GPU Memory |\n",
            "|        ID   ID                                                   Usage      |\n",
            "|=============================================================================|\n",
            "|  No running processes found                                                 |\n",
            "+-----------------------------------------------------------------------------+\n"
          ]
        }
      ]
    },
    {
      "cell_type": "code",
      "source": [
        "%%writefile gputimer.h\n",
        "#ifndef __GPU_TIMER_H__\n",
        "#define __GPU_TIMER_H__\n",
        "\n",
        "class GpuTimer\n",
        "{\n",
        "    public:\n",
        "      cudaEvent_t start;\n",
        "      cudaEvent_t stop;\n",
        " \n",
        "      GpuTimer()\n",
        "      {\n",
        "            cudaEventCreate(&start);\n",
        "            cudaEventCreate(&stop);\n",
        "      }\n",
        " \n",
        "      ~GpuTimer()\n",
        "      {\n",
        "            cudaEventDestroy(start);\n",
        "            cudaEventDestroy(stop);\n",
        "      }\n",
        " \n",
        "      void Start()\n",
        "      {\n",
        "            cudaEventRecord(start, 0);\n",
        "      }\n",
        " \n",
        "      void Stop()\n",
        "      {\n",
        "            cudaEventRecord(stop, 0);\n",
        "      }\n",
        " \n",
        "      float Elapsed()\n",
        "      {\n",
        "            float elapsed;\n",
        "            cudaEventSynchronize(stop);\n",
        "            cudaEventElapsedTime(&elapsed, start, stop);\n",
        "            return elapsed;\n",
        "      }\n",
        "};\n",
        "\n",
        "#endif  /* __GPU_TIMER_H__ */"
      ],
      "metadata": {
        "colab": {
          "base_uri": "https://localhost:8080/"
        },
        "id": "U-JLmsO70uHA",
        "outputId": "215de004-132b-4219-b24d-f9dd0e52108d"
      },
      "execution_count": null,
      "outputs": [
        {
          "output_type": "stream",
          "name": "stdout",
          "text": [
            "Overwriting gputimer.h\n"
          ]
        }
      ]
    },
    {
      "cell_type": "code",
      "source": [
        "%%writefile vector_add.cu\n",
        "#include <stdio.h>\n",
        "#include <stdlib.h>\n",
        "#include <time.h> \n",
        "#include \"gputimer.h\"\n",
        "\n",
        "extern \"C\" __global__ void vectorAdd(const float *A, const float *B, float *C,\n",
        "                                     int numElements) {\n",
        "  int start, end = 0;\n",
        "  start = numElements * blockIdx.x / gridDim.x;\n",
        "  end = numElements * (blockIdx.x +1) / gridDim.x;\n",
        "  for(int i = threadIdx.x + start; i < end; i+=blockDim.x){\n",
        "    C[i] = A[i] + B[i];\n",
        "  }\n",
        "}\n",
        "\n",
        "void cpuVectorAdd(float* A, float* B, float* C, int N){\n",
        "\t\n",
        "\tfor(int i=0; i < N; i++){\n",
        "\t\tC[i] = A[i] + B[i];\n",
        "\t}\n",
        "}\n",
        "\n",
        "\n",
        "int main(int argc, char *argv[]) {\n",
        "    \n",
        "    if (argc < 4) {\n",
        "        exit(1);\n",
        "    }\n",
        "    int threads_per_block = atoi(argv[1]);\n",
        "    int blocks_per_grid = atoi(argv[2]);\n",
        "    int N = atoi(argv[3]);\n",
        "    size_t size = N*sizeof(float);\n",
        "\n",
        "    printf(\"%d,%d\", threads_per_block, blocks_per_grid);\n",
        "\n",
        "    float* h_a;\n",
        "    float* h_b;\n",
        "    float* h_c;\n",
        "    cudaMallocHost(&h_a, size);\n",
        "    cudaMallocHost(&h_b, size);\n",
        "    cudaMallocHost(&h_c, size);\n",
        "    float* h_c2 = (float*)malloc(size);\n",
        "    \n",
        "    for(int i = 0;i<N;i++){\n",
        "        h_a[i] = 1.5;\n",
        "        h_b[i] = 2.7;\n",
        "    }\n",
        "    \n",
        "    float* d_a;\n",
        "    cudaMalloc(&d_a, size);\n",
        "\n",
        "    float* d_b;\n",
        "    cudaMalloc(&d_b, size);\n",
        "\n",
        "    float* d_c;\n",
        "    cudaMalloc(&d_c, size);\n",
        "    \n",
        "    cudaMemcpy(d_a, h_a, size, cudaMemcpyHostToDevice);\n",
        "    cudaMemcpy(d_b, h_b, size, cudaMemcpyHostToDevice);\n",
        "        \n",
        "    GpuTimer timer;\n",
        "    timer.Start();\n",
        "\n",
        "    vectorAdd<<<blocks_per_grid, threads_per_block>>>(d_a, d_b, d_c, N);\n",
        "    cudaDeviceSynchronize();\n",
        "    \n",
        "    timer.Stop();\n",
        "    printf(\",%f\", timer.Elapsed());\n",
        "    \n",
        "    cudaMemcpy(h_c, d_c, size, cudaMemcpyDeviceToHost);\n",
        "\n",
        "    timer.Start();\n",
        "\n",
        "    cpuVectorAdd(h_a, h_b, h_c2, N);\n",
        "    \n",
        "    timer.Stop();\n",
        "    printf(\",%f\\n\", timer.Elapsed());\n",
        "    \n",
        "    for(int i = 0; i<N;i++){\n",
        "        if(h_c[i] != h_c2[i]) {\n",
        "            printf(\"results don't match: %d: gpu: %f cpu: %f\\n\", i, h_c[i], h_c2[i]);\n",
        "            exit(1);\n",
        "        }\n",
        "    }\n",
        "\n",
        "    cudaFree(d_a);\n",
        "    cudaFree(d_b);\n",
        "    cudaFree(d_c);\n",
        "\n",
        "    cudaFreeHost(h_a);\n",
        "    cudaFreeHost(h_b);\n",
        "    cudaFreeHost(h_c);\n",
        "    \n",
        "    return 0;\n",
        "}"
      ],
      "metadata": {
        "colab": {
          "base_uri": "https://localhost:8080/"
        },
        "id": "97mmpGcmzd-A",
        "outputId": "8d9addee-4ecc-407f-aa6f-e6a7cae690db"
      },
      "execution_count": null,
      "outputs": [
        {
          "output_type": "stream",
          "name": "stdout",
          "text": [
            "Overwriting vector_add.cu\n"
          ]
        }
      ]
    },
    {
      "cell_type": "code",
      "source": [
        "!nvcc -o vector_add vector_add.cu"
      ],
      "metadata": {
        "id": "MAmllKJc0LcT"
      },
      "execution_count": null,
      "outputs": []
    },
    {
      "cell_type": "markdown",
      "source": [
        "running: `./vector_add <#threads> <#blocks> <vector size>`"
      ],
      "metadata": {
        "id": "tHj70_HJ-kIz"
      }
    },
    {
      "cell_type": "code",
      "source": [
        "%%writefile run.sh\n",
        "#!/usr/bin/env bash\n",
        "\n",
        "echo \"threads,blocks,gpu,cpu\" > results.csv\n",
        "\n",
        "for i in 1 10 20 40 80; do\n",
        "  ./vector_add $i 10 100000000 >> results.csv\n",
        "done\n",
        "\n",
        "for i in 1 10 20 40; do\n",
        "  ./vector_add 100 $i 100000000 >> results.csv\n",
        "done\n"
      ],
      "metadata": {
        "id": "VBgPrKEovwgo",
        "outputId": "2f210ff7-48b1-4e44-93e2-264ccbddfdc1",
        "colab": {
          "base_uri": "https://localhost:8080/"
        }
      },
      "execution_count": null,
      "outputs": [
        {
          "output_type": "stream",
          "name": "stdout",
          "text": [
            "Writing run.sh\n"
          ]
        }
      ]
    },
    {
      "cell_type": "code",
      "source": [
        "!./vector_add 100 40 100000000"
      ],
      "metadata": {
        "colab": {
          "base_uri": "https://localhost:8080/"
        },
        "id": "VTRjRwyx-eFJ",
        "outputId": "b5e896bb-f92a-45ad-c837-3f61fc164b62"
      },
      "execution_count": null,
      "outputs": [
        {
          "output_type": "stream",
          "name": "stdout",
          "text": [
            "100,40,18.080288,448.187134\n"
          ]
        }
      ]
    },
    {
      "cell_type": "code",
      "source": [
        "!chmod +x run.sh\n",
        "!./run.sh"
      ],
      "metadata": {
        "id": "iYGmlBHrw5G4"
      },
      "execution_count": null,
      "outputs": []
    },
    {
      "cell_type": "code",
      "source": [
        "import matplotlib.pyplot as plt\n",
        "import pandas as pd\n",
        "%matplotlib inline"
      ],
      "metadata": {
        "id": "b4z1CfP2xD07"
      },
      "execution_count": null,
      "outputs": []
    },
    {
      "cell_type": "code",
      "source": [
        "results = pd.read_csv('results.csv')\n",
        "results"
      ],
      "metadata": {
        "id": "coJAyH0zxI_K",
        "outputId": "dec23a22-c220-4452-b580-ec625ce65e99",
        "colab": {
          "base_uri": "https://localhost:8080/",
          "height": 332
        }
      },
      "execution_count": null,
      "outputs": [
        {
          "output_type": "execute_result",
          "data": {
            "text/plain": [
              "   threads  blocks         gpu         cpu\n",
              "0        1      10  835.447266  462.882019\n",
              "1       10      10  379.170105  447.296051\n",
              "2       20      10  250.897629  452.262909\n",
              "3       40      10  147.758469  440.720001\n",
              "4       80      10   72.763519  449.013824\n",
              "5      100       1  443.642578  446.573639\n",
              "6      100      10   60.608032  443.461182\n",
              "7      100      20   32.480896  441.134674\n",
              "8      100      40   18.095680  446.583923"
            ],
            "text/html": [
              "\n",
              "  <div id=\"df-6fb982ea-faf6-4c52-ad43-6a339977c8ac\">\n",
              "    <div class=\"colab-df-container\">\n",
              "      <div>\n",
              "<style scoped>\n",
              "    .dataframe tbody tr th:only-of-type {\n",
              "        vertical-align: middle;\n",
              "    }\n",
              "\n",
              "    .dataframe tbody tr th {\n",
              "        vertical-align: top;\n",
              "    }\n",
              "\n",
              "    .dataframe thead th {\n",
              "        text-align: right;\n",
              "    }\n",
              "</style>\n",
              "<table border=\"1\" class=\"dataframe\">\n",
              "  <thead>\n",
              "    <tr style=\"text-align: right;\">\n",
              "      <th></th>\n",
              "      <th>threads</th>\n",
              "      <th>blocks</th>\n",
              "      <th>gpu</th>\n",
              "      <th>cpu</th>\n",
              "    </tr>\n",
              "  </thead>\n",
              "  <tbody>\n",
              "    <tr>\n",
              "      <th>0</th>\n",
              "      <td>1</td>\n",
              "      <td>10</td>\n",
              "      <td>835.447266</td>\n",
              "      <td>462.882019</td>\n",
              "    </tr>\n",
              "    <tr>\n",
              "      <th>1</th>\n",
              "      <td>10</td>\n",
              "      <td>10</td>\n",
              "      <td>379.170105</td>\n",
              "      <td>447.296051</td>\n",
              "    </tr>\n",
              "    <tr>\n",
              "      <th>2</th>\n",
              "      <td>20</td>\n",
              "      <td>10</td>\n",
              "      <td>250.897629</td>\n",
              "      <td>452.262909</td>\n",
              "    </tr>\n",
              "    <tr>\n",
              "      <th>3</th>\n",
              "      <td>40</td>\n",
              "      <td>10</td>\n",
              "      <td>147.758469</td>\n",
              "      <td>440.720001</td>\n",
              "    </tr>\n",
              "    <tr>\n",
              "      <th>4</th>\n",
              "      <td>80</td>\n",
              "      <td>10</td>\n",
              "      <td>72.763519</td>\n",
              "      <td>449.013824</td>\n",
              "    </tr>\n",
              "    <tr>\n",
              "      <th>5</th>\n",
              "      <td>100</td>\n",
              "      <td>1</td>\n",
              "      <td>443.642578</td>\n",
              "      <td>446.573639</td>\n",
              "    </tr>\n",
              "    <tr>\n",
              "      <th>6</th>\n",
              "      <td>100</td>\n",
              "      <td>10</td>\n",
              "      <td>60.608032</td>\n",
              "      <td>443.461182</td>\n",
              "    </tr>\n",
              "    <tr>\n",
              "      <th>7</th>\n",
              "      <td>100</td>\n",
              "      <td>20</td>\n",
              "      <td>32.480896</td>\n",
              "      <td>441.134674</td>\n",
              "    </tr>\n",
              "    <tr>\n",
              "      <th>8</th>\n",
              "      <td>100</td>\n",
              "      <td>40</td>\n",
              "      <td>18.095680</td>\n",
              "      <td>446.583923</td>\n",
              "    </tr>\n",
              "  </tbody>\n",
              "</table>\n",
              "</div>\n",
              "      <button class=\"colab-df-convert\" onclick=\"convertToInteractive('df-6fb982ea-faf6-4c52-ad43-6a339977c8ac')\"\n",
              "              title=\"Convert this dataframe to an interactive table.\"\n",
              "              style=\"display:none;\">\n",
              "        \n",
              "  <svg xmlns=\"http://www.w3.org/2000/svg\" height=\"24px\"viewBox=\"0 0 24 24\"\n",
              "       width=\"24px\">\n",
              "    <path d=\"M0 0h24v24H0V0z\" fill=\"none\"/>\n",
              "    <path d=\"M18.56 5.44l.94 2.06.94-2.06 2.06-.94-2.06-.94-.94-2.06-.94 2.06-2.06.94zm-11 1L8.5 8.5l.94-2.06 2.06-.94-2.06-.94L8.5 2.5l-.94 2.06-2.06.94zm10 10l.94 2.06.94-2.06 2.06-.94-2.06-.94-.94-2.06-.94 2.06-2.06.94z\"/><path d=\"M17.41 7.96l-1.37-1.37c-.4-.4-.92-.59-1.43-.59-.52 0-1.04.2-1.43.59L10.3 9.45l-7.72 7.72c-.78.78-.78 2.05 0 2.83L4 21.41c.39.39.9.59 1.41.59.51 0 1.02-.2 1.41-.59l7.78-7.78 2.81-2.81c.8-.78.8-2.07 0-2.86zM5.41 20L4 18.59l7.72-7.72 1.47 1.35L5.41 20z\"/>\n",
              "  </svg>\n",
              "      </button>\n",
              "      \n",
              "  <style>\n",
              "    .colab-df-container {\n",
              "      display:flex;\n",
              "      flex-wrap:wrap;\n",
              "      gap: 12px;\n",
              "    }\n",
              "\n",
              "    .colab-df-convert {\n",
              "      background-color: #E8F0FE;\n",
              "      border: none;\n",
              "      border-radius: 50%;\n",
              "      cursor: pointer;\n",
              "      display: none;\n",
              "      fill: #1967D2;\n",
              "      height: 32px;\n",
              "      padding: 0 0 0 0;\n",
              "      width: 32px;\n",
              "    }\n",
              "\n",
              "    .colab-df-convert:hover {\n",
              "      background-color: #E2EBFA;\n",
              "      box-shadow: 0px 1px 2px rgba(60, 64, 67, 0.3), 0px 1px 3px 1px rgba(60, 64, 67, 0.15);\n",
              "      fill: #174EA6;\n",
              "    }\n",
              "\n",
              "    [theme=dark] .colab-df-convert {\n",
              "      background-color: #3B4455;\n",
              "      fill: #D2E3FC;\n",
              "    }\n",
              "\n",
              "    [theme=dark] .colab-df-convert:hover {\n",
              "      background-color: #434B5C;\n",
              "      box-shadow: 0px 1px 3px 1px rgba(0, 0, 0, 0.15);\n",
              "      filter: drop-shadow(0px 1px 2px rgba(0, 0, 0, 0.3));\n",
              "      fill: #FFFFFF;\n",
              "    }\n",
              "  </style>\n",
              "\n",
              "      <script>\n",
              "        const buttonEl =\n",
              "          document.querySelector('#df-6fb982ea-faf6-4c52-ad43-6a339977c8ac button.colab-df-convert');\n",
              "        buttonEl.style.display =\n",
              "          google.colab.kernel.accessAllowed ? 'block' : 'none';\n",
              "\n",
              "        async function convertToInteractive(key) {\n",
              "          const element = document.querySelector('#df-6fb982ea-faf6-4c52-ad43-6a339977c8ac');\n",
              "          const dataTable =\n",
              "            await google.colab.kernel.invokeFunction('convertToInteractive',\n",
              "                                                     [key], {});\n",
              "          if (!dataTable) return;\n",
              "\n",
              "          const docLinkHtml = 'Like what you see? Visit the ' +\n",
              "            '<a target=\"_blank\" href=https://colab.research.google.com/notebooks/data_table.ipynb>data table notebook</a>'\n",
              "            + ' to learn more about interactive tables.';\n",
              "          element.innerHTML = '';\n",
              "          dataTable['output_type'] = 'display_data';\n",
              "          await google.colab.output.renderOutput(dataTable, element);\n",
              "          const docLink = document.createElement('div');\n",
              "          docLink.innerHTML = docLinkHtml;\n",
              "          element.appendChild(docLink);\n",
              "        }\n",
              "      </script>\n",
              "    </div>\n",
              "  </div>\n",
              "  "
            ]
          },
          "metadata": {},
          "execution_count": 72
        }
      ]
    },
    {
      "cell_type": "code",
      "source": [
        "plt.figure(figsize=(10,10))\n",
        "\n",
        "by_threads = results[ results['blocks'] == 10]\n",
        "\n",
        "plt.scatter(by_threads['threads'],by_threads['gpu'],c='r',label='gpu')\n",
        "plt.scatter(by_threads['threads'],by_threads['cpu'],c='b',label='cpu')\n",
        "\n",
        "plt.legend()\n",
        "plt.title(f'Czas wykonania w zależności od ilości wątków w bloku')\n",
        "plt.xlabel('ilość wątków')\n",
        "plt.ylabel(f'czas [ms]')\n",
        "plt.show()"
      ],
      "metadata": {
        "id": "yVPpydNdxNC7",
        "outputId": "c0b0db04-d6e0-4789-c4b9-32ffd11a84cc",
        "colab": {
          "base_uri": "https://localhost:8080/",
          "height": 623
        }
      },
      "execution_count": null,
      "outputs": [
        {
          "output_type": "display_data",
          "data": {
            "text/plain": [
              "<Figure size 720x720 with 1 Axes>"
            ],
            "image/png": "[encoded data removed]"
          },
          "metadata": {
            "needs_background": "light"
          }
        }
      ]
    },
    {
      "cell_type": "code",
      "source": [
        "plt.figure(figsize=(10,10))\n",
        "\n",
        "by_threads = results[ results['threads'] == 100]\n",
        "\n",
        "plt.scatter(by_threads['blocks'],by_threads['gpu'],c='r',label='gpu')\n",
        "plt.scatter(by_threads['blocks'],by_threads['cpu'],c='b',label='cpu')\n",
        "\n",
        "plt.legend()\n",
        "plt.title(f'Czas wykonania w zależności od ilości bloków')\n",
        "plt.xlabel('ilość bloków')\n",
        "plt.ylabel(f'czas [ms]')\n",
        "plt.show()"
      ],
      "metadata": {
        "id": "WzDXqMB3yCxI",
        "outputId": "f41597eb-3dff-46d5-f437-4a81300d7d7b",
        "colab": {
          "base_uri": "https://localhost:8080/",
          "height": 621
        }
      },
      "execution_count": null,
      "outputs": [
        {
          "output_type": "display_data",
          "data": {
            "text/plain": [
              "<Figure size 720x720 with 1 Axes>"
            ],
            "image/png": "[encoded data removed]"
          },
          "metadata": {
            "needs_background": "light"
          }
        }
      ]
    }
  ]
}