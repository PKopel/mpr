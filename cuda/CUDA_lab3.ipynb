{
  "nbformat": 4,
  "nbformat_minor": 0,
  "metadata": {
    "colab": {
      "name": "CUDA_lab3.ipynb",
      "provenance": [],
      "collapsed_sections": [],
      "authorship_tag": "ABX9TyNqSf+mH6lzFcLy0KJiuW2e",
      "include_colab_link": true
    },
    "kernelspec": {
      "name": "python3",
      "display_name": "Python 3"
    },
    "language_info": {
      "name": "python"
    },
    "accelerator": "GPU"
  },
  "cells": [
    {
      "cell_type": "markdown",
      "metadata": {
        "id": "view-in-github",
        "colab_type": "text"
      },
      "source": [
        "<a href=\"https://colab.research.google.com/github/PKopel/mpr/blob/cuda/CUDA_lab3.ipynb\" target=\"_parent\"><img src=\"https://colab.research.google.com/assets/colab-badge.svg\" alt=\"Open In Colab\"/></a>"
      ]
    },
    {
      "cell_type": "code",
      "execution_count": null,
      "metadata": {
        "colab": {
          "base_uri": "https://localhost:8080/"
        },
        "id": "TgDhWe9OySof",
        "outputId": "b0a8fd0e-e7a7-49ef-e0d3-8fd347811668"
      },
      "outputs": [
        {
          "output_type": "stream",
          "name": "stdout",
          "text": [
            "nvcc: NVIDIA (R) Cuda compiler driver\n",
            "Copyright (c) 2005-2020 NVIDIA Corporation\n",
            "Built on Mon_Oct_12_20:09:46_PDT_2020\n",
            "Cuda compilation tools, release 11.1, V11.1.105\n",
            "Build cuda_11.1.TC455_06.29190527_0\n"
          ]
        }
      ],
      "source": [
        "!nvcc --version"
      ]
    },
    {
      "cell_type": "code",
      "source": [
        "!nvidia-smi"
      ],
      "metadata": {
        "colab": {
          "base_uri": "https://localhost:8080/"
        },
        "id": "EWg2Ampnyisu",
        "outputId": "446050cd-7798-41e0-bdb1-a8331b2edeb4"
      },
      "execution_count": null,
      "outputs": [
        {
          "output_type": "stream",
          "name": "stdout",
          "text": [
            "Mon Jun 13 20:21:04 2022       \n",
            "+-----------------------------------------------------------------------------+\n",
            "| NVIDIA-SMI 460.32.03    Driver Version: 460.32.03    CUDA Version: 11.2     |\n",
            "|-------------------------------+----------------------+----------------------+\n",
            "| GPU  Name        Persistence-M| Bus-Id        Disp.A | Volatile Uncorr. ECC |\n",
            "| Fan  Temp  Perf  Pwr:Usage/Cap|         Memory-Usage | GPU-Util  Compute M. |\n",
            "|                               |                      |               MIG M. |\n",
            "|===============================+======================+======================|\n",
            "|   0  Tesla T4            Off  | 00000000:00:04.0 Off |                    0 |\n",
            "| N/A   35C    P8     9W /  70W |      0MiB / 15109MiB |      0%      Default |\n",
            "|                               |                      |                  N/A |\n",
            "+-------------------------------+----------------------+----------------------+\n",
            "                                                                               \n",
            "+-----------------------------------------------------------------------------+\n",
            "| Processes:                                                                  |\n",
            "|  GPU   GI   CI        PID   Type   Process name                  GPU Memory |\n",
            "|        ID   ID                                                   Usage      |\n",
            "|=============================================================================|\n",
            "|  No running processes found                                                 |\n",
            "+-----------------------------------------------------------------------------+\n"
          ]
        }
      ]
    },
    {
      "cell_type": "code",
      "source": [
        "import matplotlib.pyplot as plt\n",
        "import pandas as pd\n",
        "%matplotlib inline"
      ],
      "metadata": {
        "id": "b4z1CfP2xD07"
      },
      "execution_count": null,
      "outputs": []
    },
    {
      "cell_type": "code",
      "source": [
        "!unzip CUDA-Lab03.zip"
      ],
      "metadata": {
        "colab": {
          "base_uri": "https://localhost:8080/"
        },
        "id": "cT6nyYYXuW9h",
        "outputId": "7a49c03f-74f0-4a1c-a085-bed17169bb9f"
      },
      "execution_count": null,
      "outputs": [
        {
          "output_type": "stream",
          "name": "stdout",
          "text": [
            "Archive:  CUDA-Lab03.zip\n",
            "   creating: CUDA-Lab03/\n",
            "   creating: CUDA-Lab03/1 Reduction/\n",
            "  inflating: CUDA-Lab03/1 Reduction/reduction.h  \n",
            "  inflating: CUDA-Lab03/1 Reduction/reduction_global.cpp  \n",
            "  inflating: CUDA-Lab03/1 Reduction/reduction_global_kernel.cu  \n",
            "  inflating: CUDA-Lab03/1 Reduction/reduction_shared.cpp  \n",
            "  inflating: CUDA-Lab03/1 Reduction/reduction_shared_kernel.cu  \n",
            "   creating: CUDA-Lab03/2 Warp Divergence/\n",
            "  inflating: CUDA-Lab03/2 Warp Divergence/reduction.cpp  \n",
            "  inflating: CUDA-Lab03/2 Warp Divergence/reduction.h  \n",
            "  inflating: CUDA-Lab03/2 Warp Divergence/reduction_kernel_interleaving.cu  \n",
            "  inflating: CUDA-Lab03/2 Warp Divergence/reduction_kernel_sequential.cu  \n",
            "   creating: CUDA-Lab03/3 Loop Unrolling/\n",
            "  inflating: CUDA-Lab03/3 Loop Unrolling/reduction.cpp  \n",
            "  inflating: CUDA-Lab03/3 Loop Unrolling/reduction.h  \n",
            "  inflating: CUDA-Lab03/3 Loop Unrolling/reduction_cg_kernel.cu  \n",
            "  inflating: CUDA-Lab03/3 Loop Unrolling/reduction_wp_kernel.cu  \n",
            "   creating: CUDA-Lab03/4 Atomic Operations/\n",
            "  inflating: CUDA-Lab03/4 Atomic Operations/reduction.cpp  \n",
            "  inflating: CUDA-Lab03/4 Atomic Operations/reduction.h  \n",
            "  inflating: CUDA-Lab03/4 Atomic Operations/reduction_blk_atmc_kernel.cu  \n",
            "  inflating: CUDA-Lab03/4 Atomic Operations/reduction_kernel.cu  \n",
            "  inflating: CUDA-Lab03/4 Atomic Operations/reduction_wrp_atmc_kernel.cu  \n",
            "   creating: CUDA-Lab03/5 Histogram/\n",
            "  inflating: CUDA-Lab03/5 Histogram/gputimer.h  \n",
            "  inflating: CUDA-Lab03/5 Histogram/histo.cu  \n",
            "  inflating: CUDA-Lab03/5 Histogram/reduce.cu  \n",
            "  inflating: CUDA-Lab03/exception.h  \n",
            "  inflating: CUDA-Lab03/helper_timer.h  \n"
          ]
        }
      ]
    },
    {
      "cell_type": "markdown",
      "source": [
        "# 1. Redukcja."
      ],
      "metadata": {
        "id": "u-shCEDIy2Z_"
      }
    },
    {
      "cell_type": "code",
      "source": [
        "!cd CUDA-Lab03/'1 Reduction' &&\\\n",
        " nvcc -o reduction_global reduction_global.cpp reduction_global_kernel.cu &&\\\n",
        " ./reduction_global 12 &&\\\n",
        " ./reduction_global 16 &&\\\n",
        " ./reduction_global 24"
      ],
      "metadata": {
        "colab": {
          "base_uri": "https://localhost:8080/"
        },
        "id": "paXR1Y8hvEVw",
        "outputId": "37f13a92-c572-4e03-8390-dbb30e4ccaad"
      },
      "execution_count": null,
      "outputs": [
        {
          "output_type": "stream",
          "name": "stdout",
          "text": [
            "Time= 0.052 msec, bandwidth= 0.317458 GB/s\n",
            "host: 0.000243, device 0.000243\n",
            "Time= 0.088 msec, bandwidth= 2.971481 GB/s\n",
            "host: 0.003885, device 0.003885\n",
            "Time= 14.389 msec, bandwidth= 4.664050 GB/s\n",
            "host: 0.996007, device 0.996007\n"
          ]
        }
      ]
    },
    {
      "cell_type": "code",
      "source": [
        "!cd CUDA-Lab03/'1 Reduction' &&\\\n",
        " nvcc -o reduction_shared reduction_shared.cpp reduction_shared_kernel.cu &&\\\n",
        " ./reduction_shared 12 &&\\\n",
        " ./reduction_shared 16 &&\\\n",
        " ./reduction_shared 24"
      ],
      "metadata": {
        "colab": {
          "base_uri": "https://localhost:8080/"
        },
        "id": "nqOvp9oBxG0r",
        "outputId": "0fb5edc2-28b8-40e3-b33b-f429db51b954"
      },
      "execution_count": null,
      "outputs": [
        {
          "output_type": "stream",
          "name": "stdout",
          "text": [
            "Time= 0.017 msec, bandwidth= 0.949797 GB/s\n",
            "host: 0.000243, device 0.000243\n",
            "Time= 0.026 msec, bandwidth= 10.066974 GB/s\n",
            "host: 0.003885, device 0.003885\n",
            "Time= 2.476 msec, bandwidth= 27.103632 GB/s\n",
            "host: 0.996007, device 0.996007\n"
          ]
        }
      ]
    },
    {
      "cell_type": "code",
      "source": [
        "data_shared = [[12,0.017], [16,0.026], [24,2.476]]\n",
        "shared = pd.DataFrame(data_shared, columns=['size','time'])\n",
        "data_global = [[12,0.052], [16,0.088], [24,14.389]]\n",
        "glob = pd.DataFrame(data_global, columns=['size','time'])"
      ],
      "metadata": {
        "id": "nNlNoyh66lt3"
      },
      "execution_count": null,
      "outputs": []
    },
    {
      "cell_type": "code",
      "source": [
        "plt.figure(figsize=(10,10))\n",
        "\n",
        "plt.scatter(shared['size'],shared['time'],c='r',label='shared')\n",
        "plt.scatter(glob['size'],glob['time'],c='b',label='global')\n",
        "\n",
        "plt.legend()\n",
        "plt.title(f'Czas wykonania w zależności od wielkości wektora')\n",
        "plt.xlabel('wielkość wektora (2^x)')\n",
        "plt.ylabel(f'czas [ms]')\n",
        "plt.show()"
      ],
      "metadata": {
        "colab": {
          "base_uri": "https://localhost:8080/",
          "height": 622
        },
        "id": "dU4Y5cYnxWpw",
        "outputId": "9b304b1e-ec50-4183-9d1e-564d7774008b"
      },
      "execution_count": null,
      "outputs": [
        {
          "output_type": "display_data",
          "data": {
            "text/plain": [
              "<Figure size 720x720 with 1 Axes>"
            ],
            "image/png": "[encoded data removed]"
          },
          "metadata": {
            "needs_background": "light"
          }
        }
      ]
    },
    {
      "cell_type": "markdown",
      "source": [
        "#2. Spojrzenie na efekt „warp divergence\""
      ],
      "metadata": {
        "id": "7vN-1RCCyuGM"
      }
    },
    {
      "cell_type": "code",
      "source": [
        "!cd CUDA-Lab03/'2 Warp Divergence' &&\\\n",
        " nvcc -o reduction_seq reduction.cpp reduction_kernel_sequential.cu &&\\\n",
        " ./reduction_seq"
      ],
      "metadata": {
        "colab": {
          "base_uri": "https://localhost:8080/"
        },
        "id": "LnPa3jIVxYR3",
        "outputId": "b7686b7e-bb56-41a0-d884-87db38c572d0"
      },
      "execution_count": null,
      "outputs": [
        {
          "output_type": "stream",
          "name": "stdout",
          "text": [
            "Time= 2.489 msec, bandwidth= 26.964346 GB/s\n",
            "host: 0.996007, device 0.996007\n"
          ]
        }
      ]
    },
    {
      "cell_type": "code",
      "source": [
        "!cd CUDA-Lab03/'2 Warp Divergence' &&\\\n",
        " nvcc -o reduction_int reduction.cpp reduction_kernel_interleaving.cu &&\\\n",
        " ./reduction_int"
      ],
      "metadata": {
        "colab": {
          "base_uri": "https://localhost:8080/"
        },
        "id": "hr_2_6I5yclf",
        "outputId": "709da059-ff9b-412f-e9fe-12cc88e7031e"
      },
      "execution_count": null,
      "outputs": [
        {
          "output_type": "stream",
          "name": "stdout",
          "text": [
            "Time= 3.026 msec, bandwidth= 22.177416 GB/s\n",
            "host: 0.996007, device 0.996007\n"
          ]
        }
      ]
    },
    {
      "cell_type": "markdown",
      "source": [
        "# 3. Loop unrolling"
      ],
      "metadata": {
        "id": "Bpkzv4fUy77q"
      }
    },
    {
      "cell_type": "code",
      "source": [
        "!cd CUDA-Lab03/'3 Loop Unrolling' &&\\\n",
        " nvcc -o reduction_cg reduction.cpp reduction_cg_kernel.cu &&\\\n",
        " ./reduction_cg 12 &&\\\n",
        " ./reduction_cg 16 &&\\\n",
        " ./reduction_cg 24"
      ],
      "metadata": {
        "colab": {
          "base_uri": "https://localhost:8080/"
        },
        "id": "cEb61kfmyr7V",
        "outputId": "b2798d32-8198-41cc-c023-202d7eb984d5"
      },
      "execution_count": null,
      "outputs": [
        {
          "output_type": "stream",
          "name": "stdout",
          "text": [
            "Time= 0.012 msec, bandwidth= 1.360797 GB/s\n",
            "host: 0.000243, device 0.000243\n",
            "Time= 0.015 msec, bandwidth= 17.992039 GB/s\n",
            "host: 0.003885, device 0.003885\n",
            "Time= 0.812 msec, bandwidth= 82.670815 GB/s\n",
            "host: 0.996007, device 0.996007\n"
          ]
        }
      ]
    },
    {
      "cell_type": "code",
      "source": [
        "!cd CUDA-Lab03/'3 Loop Unrolling' &&\\\n",
        " nvcc -o reduction_wp reduction.cpp reduction_wp_kernel.cu &&\\\n",
        " ./reduction_wp 12 &&\\\n",
        " ./reduction_wp 16 &&\\\n",
        " ./reduction_wp 24"
      ],
      "metadata": {
        "colab": {
          "base_uri": "https://localhost:8080/"
        },
        "id": "7YvEobLnzbdT",
        "outputId": "11fa1b0b-1304-47b1-bb7b-2933a5a086b9"
      },
      "execution_count": null,
      "outputs": [
        {
          "output_type": "stream",
          "name": "stdout",
          "text": [
            "Time= 0.012 msec, bandwidth= 1.341851 GB/s\n",
            "host: 0.000243, device 0.000243\n",
            "Time= 0.014 msec, bandwidth= 18.128908 GB/s\n",
            "host: 0.003885, device 0.003885\n",
            "Time= 0.812 msec, bandwidth= 82.675911 GB/s\n",
            "host: 0.996007, device 0.996007\n"
          ]
        }
      ]
    },
    {
      "cell_type": "markdown",
      "source": [
        "# 4. Operacje atomowe"
      ],
      "metadata": {
        "id": "C5n-CFxv1qKf"
      }
    },
    {
      "cell_type": "code",
      "source": [
        "!cd CUDA-Lab03/'4 Atomic Operations' &&\\\n",
        " nvcc -o reduction_blk reduction.cpp reduction_blk_atmc_kernel.cu &&\\\n",
        " ./reduction_blk 12 &&\\\n",
        " ./reduction_blk 16 &&\\\n",
        " ./reduction_blk 24"
      ],
      "metadata": {
        "colab": {
          "base_uri": "https://localhost:8080/"
        },
        "id": "pndO5cfg1sb3",
        "outputId": "f830a7ab-83ba-4415-91d6-57e667f7192d"
      },
      "execution_count": null,
      "outputs": [
        {
          "output_type": "stream",
          "name": "stdout",
          "text": [
            "Time= 0.008 msec, bandwidth= 2.073924 GB/s\n",
            "host: 0.000243, device 0.000243\n",
            "Time= 0.010 msec, bandwidth= 25.801575 GB/s\n",
            "host: 0.003885, device 0.003885\n",
            "Time= 0.807 msec, bandwidth= 83.113121 GB/s\n",
            "host: 0.996007, device 0.996007\n"
          ]
        }
      ]
    },
    {
      "cell_type": "code",
      "source": [
        "!cd CUDA-Lab03/'4 Atomic Operations' &&\\\n",
        " nvcc -o reduction reduction.cpp reduction_kernel.cu &&\\\n",
        " ./reduction 12 &&\\\n",
        " ./reduction 16 &&\\\n",
        " ./reduction 24"
      ],
      "metadata": {
        "colab": {
          "base_uri": "https://localhost:8080/"
        },
        "id": "OCtP7er317ZL",
        "outputId": "5b1c5ebd-befe-45b3-fcf5-b1cb007f6e2d"
      },
      "execution_count": null,
      "outputs": [
        {
          "output_type": "stream",
          "name": "stdout",
          "text": [
            "Time= 0.021 msec, bandwidth= 0.797275 GB/s\n",
            "host: 0.000243, device 0.000243\n",
            "Time= 0.240 msec, bandwidth= 1.093816 GB/s\n",
            "host: 0.003885, device 0.003885\n",
            "Time= 35.229 msec, bandwidth= 1.904907 GB/s\n",
            "host: 0.996007, device 0.995966\n"
          ]
        }
      ]
    },
    {
      "cell_type": "code",
      "source": [
        "!cd CUDA-Lab03/'4 Atomic Operations' &&\\\n",
        " nvcc -o reduction_wrp reduction.cpp reduction_wrp_atmc_kernel.cu &&\\\n",
        " ./reduction_wrp 12 &&\\\n",
        " ./reduction_wrp 16 &&\\\n",
        " ./reduction_wrp 24"
      ],
      "metadata": {
        "colab": {
          "base_uri": "https://localhost:8080/"
        },
        "id": "RhnPgQ5L18GA",
        "outputId": "dc1c3491-1ee5-41a1-f8ad-89f01d96fdc1"
      },
      "execution_count": null,
      "outputs": [
        {
          "output_type": "stream",
          "name": "stdout",
          "text": [
            "Time= 0.007 msec, bandwidth= 2.250550 GB/s\n",
            "host: 0.000243, device 0.000243\n",
            "Time= 0.013 msec, bandwidth= 19.934904 GB/s\n",
            "host: 0.003885, device 0.003885\n",
            "Time= 0.806 msec, bandwidth= 83.257484 GB/s\n",
            "host: 0.996007, device 0.996007\n"
          ]
        }
      ]
    },
    {
      "cell_type": "code",
      "source": [
        "data_wrp = [[12,0.007], [16,0.013], [24,0.806]]\n",
        "wrp = pd.DataFrame(data_wrp, columns=['size','time'])\n",
        "data_blk = [[12,0.008], [16,0.010], [24,0.807]]\n",
        "blk = pd.DataFrame(data_blk, columns=['size','time'])\n",
        "data = [[12,0.021], [16,0.240], [24,35.229]]\n",
        "results = pd.DataFrame(data, columns=['size','time'])"
      ],
      "metadata": {
        "id": "u2gIIqzD6U8F"
      },
      "execution_count": null,
      "outputs": []
    },
    {
      "cell_type": "code",
      "source": [
        "plt.figure(figsize=(10,10))\n",
        "\n",
        "plt.scatter(wrp['size'],wrp['time'],c='r',label='wrp')\n",
        "plt.scatter(blk['size'],blk['time'],c='b',label='blk')\n",
        "plt.scatter(results['size'],results['time'],c='g',label='naive')\n",
        "\n",
        "plt.legend()\n",
        "plt.title(f'Czas wykonania w zależności od wielkości problemu')\n",
        "plt.xlabel('wielkość wektora (2^x)')\n",
        "plt.ylabel(f'czas [ms]')\n",
        "plt.show()"
      ],
      "metadata": {
        "colab": {
          "base_uri": "https://localhost:8080/",
          "height": 622
        },
        "id": "JWgvz8SF6PQc",
        "outputId": "e9832bc2-b529-441f-d7e5-07d9a48c2951"
      },
      "execution_count": null,
      "outputs": [
        {
          "output_type": "display_data",
          "data": {
            "text/plain": [
              "<Figure size 720x720 with 1 Axes>"
            ],
            "image/png": "[encoded data removed]"
          },
          "metadata": {
            "needs_background": "light"
          }
        }
      ]
    },
    {
      "cell_type": "markdown",
      "source": [
        "# 5. Histogram"
      ],
      "metadata": {
        "id": "EVH8qNAd2N4D"
      }
    },
    {
      "cell_type": "code",
      "source": [
        "%%writefile gputimer.h\n",
        "#ifndef __GPU_TIMER_H__\n",
        "#define __GPU_TIMER_H__\n",
        "\n",
        "class GpuTimer\n",
        "{\n",
        "    public:\n",
        "      cudaEvent_t start;\n",
        "      cudaEvent_t stop;\n",
        " \n",
        "      GpuTimer()\n",
        "      {\n",
        "            cudaEventCreate(&start);\n",
        "            cudaEventCreate(&stop);\n",
        "      }\n",
        " \n",
        "      ~GpuTimer()\n",
        "      {\n",
        "            cudaEventDestroy(start);\n",
        "            cudaEventDestroy(stop);\n",
        "      }\n",
        " \n",
        "      void Start()\n",
        "      {\n",
        "            cudaEventRecord(start, 0);\n",
        "      }\n",
        " \n",
        "      void Stop()\n",
        "      {\n",
        "            cudaEventRecord(stop, 0);\n",
        "      }\n",
        " \n",
        "      float Elapsed()\n",
        "      {\n",
        "            float elapsed;\n",
        "            cudaEventSynchronize(stop);\n",
        "            cudaEventElapsedTime(&elapsed, start, stop);\n",
        "            return elapsed;\n",
        "      }\n",
        "};\n",
        "\n",
        "#endif  /* __GPU_TIMER_H__ */"
      ],
      "metadata": {
        "colab": {
          "base_uri": "https://localhost:8080/"
        },
        "id": "U-JLmsO70uHA",
        "outputId": "cef52c8b-3928-4268-9dcc-8a6558275a46"
      },
      "execution_count": null,
      "outputs": [
        {
          "output_type": "stream",
          "name": "stdout",
          "text": [
            "Writing gputimer.h\n"
          ]
        }
      ]
    },
    {
      "cell_type": "code",
      "source": [
        "%%writefile histo.cu\n",
        "#include <stdio.h>\n",
        "#include <stdlib.h>\n",
        "#include <time.h> \n",
        "#include \"gputimer.h\"\n",
        "#include <cuda_runtime.h>\n",
        "\n",
        "int log2(int i)\n",
        "{\n",
        "    int r = 0;\n",
        "    while (i >>= 1) r++;\n",
        "    return r;\n",
        "}\n",
        "\n",
        "int bit_reverse(int w, int bits)\n",
        "{\n",
        "    int r = 0;\n",
        "    for (int i = 0; i < bits; i++)\n",
        "    {\n",
        "        int bit = (w & (1 << i)) >> i;\n",
        "        r |= bit << (bits - i - 1);\n",
        "    }\n",
        "    return r;\n",
        "}\n",
        "\n",
        "__global__ void naive_histo(int *d_bins, const int *d_in, const int BIN_COUNT)\n",
        "{\n",
        "    int myId = threadIdx.x + blockDim.x * blockIdx.x;\n",
        "    int myItem = d_in[myId];\n",
        "    int myBin = myItem % BIN_COUNT;\n",
        "    d_bins[myBin]++;\n",
        "}\n",
        "\n",
        "__global__ void simple_histo(int *d_bins, const int *d_in, const int BIN_COUNT)\n",
        "{\n",
        "    int myId = threadIdx.x + blockDim.x * blockIdx.x;\n",
        "    int myItem = d_in[myId];\n",
        "    int myBin = myItem % BIN_COUNT;\n",
        "    atomicAdd(&(d_bins[myBin]), 1);\n",
        "}\n",
        "\n",
        "\n",
        "int main(int argc, char **argv)\n",
        "{\n",
        "    int deviceCount;\n",
        "    cudaGetDeviceCount(&deviceCount);\n",
        "    if (deviceCount == 0) {\n",
        "        fprintf(stderr, \"error: no devices supporting CUDA.\\n\");\n",
        "        exit(EXIT_FAILURE);\n",
        "    }\n",
        "    int dev = 0;\n",
        "    cudaSetDevice(dev);\n",
        "\n",
        "    // cudaDeviceProp devProps;\n",
        "    // if (cudaGetDeviceProperties(&devProps, dev) == 0)\n",
        "    // {\n",
        "    //     printf(\"Using device %d:\\n\", dev);\n",
        "    //     printf(\"%s; global mem: %dB; compute v%d.%d; clock: %d kHz\\n\",\n",
        "    //            devProps.name, (int)devProps.totalGlobalMem, \n",
        "    //            (int)devProps.major, (int)devProps.minor, \n",
        "    //            (int)devProps.clockRate);\n",
        "    // }\n",
        "\n",
        "    const int ARRAY_SIZE = 65536;\n",
        "    const int ARRAY_BYTES = ARRAY_SIZE * sizeof(int);\n",
        "    const int BIN_COUNT = atoi(argv[2]);\n",
        "    const int BIN_BYTES = BIN_COUNT * sizeof(int);\n",
        "\n",
        "    // generate the input array on the host\n",
        "    int h_in[ARRAY_SIZE];\n",
        "    for(int i = 0; i < ARRAY_SIZE; i++) {\n",
        "        h_in[i] = bit_reverse(i, log2(ARRAY_SIZE));\n",
        "    }\n",
        "    int h_bins[BIN_COUNT];\n",
        "    for(int i = 0; i < BIN_COUNT; i++) {\n",
        "        h_bins[i] = 0;\n",
        "    }\n",
        "\n",
        "    // declare GPU memory pointers\n",
        "    int * d_in;\n",
        "    int * d_bins;\n",
        "\n",
        "    // allocate GPU memory\n",
        "    cudaMalloc((void **) &d_in, ARRAY_BYTES);\n",
        "    cudaMalloc((void **) &d_bins, BIN_BYTES);\n",
        "\n",
        "    // transfer the arrays to the GPU\n",
        "    cudaMemcpy(d_in, h_in, ARRAY_BYTES, cudaMemcpyHostToDevice); \n",
        "    cudaMemcpy(d_bins, h_bins, BIN_BYTES, cudaMemcpyHostToDevice); \n",
        "\n",
        "    int whichKernel = 0;\n",
        "    if (argc == 3) {\n",
        "        whichKernel = atoi(argv[1]);\n",
        "    }\n",
        "\n",
        "    GpuTimer timer;\n",
        "    timer.Start();\n",
        "        \n",
        "    // launch the kernel\n",
        "    switch(whichKernel) {\n",
        "    case 0:\n",
        "        // printf(\"Running naive histo\\n\");\n",
        "        naive_histo<<<ARRAY_SIZE / 64, 64>>>(d_bins, d_in, BIN_COUNT);\n",
        "        break;\n",
        "    case 1:\n",
        "        // printf(\"Running simple histo\\n\");\n",
        "        simple_histo<<<ARRAY_SIZE / 64, 64>>>(d_bins, d_in, BIN_COUNT);\n",
        "        break;\n",
        "    default:\n",
        "        fprintf(stderr, \"error: ran no kernel\\n\");\n",
        "        exit(EXIT_FAILURE);\n",
        "    }\n",
        "    \n",
        "    timer.Stop();\n",
        "    printf(\"%d,%d,%f\\n\", whichKernel, BIN_COUNT, timer.Elapsed());\n",
        "\n",
        "    // copy back the sum from GPU\n",
        "    cudaMemcpy(h_bins, d_bins, BIN_BYTES, cudaMemcpyDeviceToHost);\n",
        "\n",
        "    // for(int i = 0; i < BIN_COUNT; i++) {\n",
        "    //     printf(\"bin %d: count %d\\n\", i, h_bins[i]);\n",
        "    // }\n",
        "\n",
        "    // free GPU memory allocation\n",
        "    cudaFree(d_in);\n",
        "    cudaFree(d_bins);\n",
        "        \n",
        "    return 0;\n",
        "}"
      ],
      "metadata": {
        "colab": {
          "base_uri": "https://localhost:8080/"
        },
        "id": "97mmpGcmzd-A",
        "outputId": "09b966b3-c37d-4c20-a253-9c0b7ef6cf54"
      },
      "execution_count": null,
      "outputs": [
        {
          "output_type": "stream",
          "name": "stdout",
          "text": [
            "Overwriting histo.cu\n"
          ]
        }
      ]
    },
    {
      "cell_type": "code",
      "source": [
        "!nvcc -o histo histo.cu"
      ],
      "metadata": {
        "id": "MAmllKJc0LcT"
      },
      "execution_count": null,
      "outputs": []
    },
    {
      "cell_type": "markdown",
      "source": [
        "running: `./histo <kernel> <#bins>`"
      ],
      "metadata": {
        "id": "tHj70_HJ-kIz"
      }
    },
    {
      "cell_type": "code",
      "source": [
        "%%writefile run.sh\n",
        "#!/usr/bin/env bash\n",
        "\n",
        "echo \"kernel,buckets,time\" > results.csv\n",
        "\n",
        "for i in 0 1; do\n",
        "  for j in 10 50 100 500 1000; do\n",
        "    ./histo $i $j >> results.csv\n",
        "  done\n",
        "done\n"
      ],
      "metadata": {
        "id": "VBgPrKEovwgo",
        "outputId": "bd700c23-1487-45a3-8386-879f341f1032",
        "colab": {
          "base_uri": "https://localhost:8080/"
        }
      },
      "execution_count": null,
      "outputs": [
        {
          "output_type": "stream",
          "name": "stdout",
          "text": [
            "Overwriting run.sh\n"
          ]
        }
      ]
    },
    {
      "cell_type": "code",
      "source": [
        "!chmod +x run.sh\n",
        "!./run.sh"
      ],
      "metadata": {
        "id": "iYGmlBHrw5G4"
      },
      "execution_count": null,
      "outputs": []
    },
    {
      "cell_type": "code",
      "source": [
        "results = pd.read_csv('results.csv')\n",
        "results"
      ],
      "metadata": {
        "id": "coJAyH0zxI_K",
        "outputId": "5ed7a947-cf36-4a76-c2ab-f52e9575e444",
        "colab": {
          "base_uri": "https://localhost:8080/",
          "height": 363
        }
      },
      "execution_count": null,
      "outputs": [
        {
          "output_type": "execute_result",
          "data": {
            "text/plain": [
              "   kernel  buckets      time\n",
              "0       0       10  0.022976\n",
              "1       0       50  0.023776\n",
              "2       0      100  0.022976\n",
              "3       0      500  0.030496\n",
              "4       0     1000  0.040736\n",
              "5       1       10  0.066880\n",
              "6       1       50  0.048544\n",
              "7       1      100  0.052672\n",
              "8       1      500  0.048992\n",
              "9       1     1000  0.031392"
            ],
            "text/html": [
              "\n",
              "  <div id=\"df-409ad584-0d2b-447c-8fd2-03691e64d46e\">\n",
              "    <div class=\"colab-df-container\">\n",
              "      <div>\n",
              "<style scoped>\n",
              "    .dataframe tbody tr th:only-of-type {\n",
              "        vertical-align: middle;\n",
              "    }\n",
              "\n",
              "    .dataframe tbody tr th {\n",
              "        vertical-align: top;\n",
              "    }\n",
              "\n",
              "    .dataframe thead th {\n",
              "        text-align: right;\n",
              "    }\n",
              "</style>\n",
              "<table border=\"1\" class=\"dataframe\">\n",
              "  <thead>\n",
              "    <tr style=\"text-align: right;\">\n",
              "      <th></th>\n",
              "      <th>kernel</th>\n",
              "      <th>buckets</th>\n",
              "      <th>time</th>\n",
              "    </tr>\n",
              "  </thead>\n",
              "  <tbody>\n",
              "    <tr>\n",
              "      <th>0</th>\n",
              "      <td>0</td>\n",
              "      <td>10</td>\n",
              "      <td>0.022976</td>\n",
              "    </tr>\n",
              "    <tr>\n",
              "      <th>1</th>\n",
              "      <td>0</td>\n",
              "      <td>50</td>\n",
              "      <td>0.023776</td>\n",
              "    </tr>\n",
              "    <tr>\n",
              "      <th>2</th>\n",
              "      <td>0</td>\n",
              "      <td>100</td>\n",
              "      <td>0.022976</td>\n",
              "    </tr>\n",
              "    <tr>\n",
              "      <th>3</th>\n",
              "      <td>0</td>\n",
              "      <td>500</td>\n",
              "      <td>0.030496</td>\n",
              "    </tr>\n",
              "    <tr>\n",
              "      <th>4</th>\n",
              "      <td>0</td>\n",
              "      <td>1000</td>\n",
              "      <td>0.040736</td>\n",
              "    </tr>\n",
              "    <tr>\n",
              "      <th>5</th>\n",
              "      <td>1</td>\n",
              "      <td>10</td>\n",
              "      <td>0.066880</td>\n",
              "    </tr>\n",
              "    <tr>\n",
              "      <th>6</th>\n",
              "      <td>1</td>\n",
              "      <td>50</td>\n",
              "      <td>0.048544</td>\n",
              "    </tr>\n",
              "    <tr>\n",
              "      <th>7</th>\n",
              "      <td>1</td>\n",
              "      <td>100</td>\n",
              "      <td>0.052672</td>\n",
              "    </tr>\n",
              "    <tr>\n",
              "      <th>8</th>\n",
              "      <td>1</td>\n",
              "      <td>500</td>\n",
              "      <td>0.048992</td>\n",
              "    </tr>\n",
              "    <tr>\n",
              "      <th>9</th>\n",
              "      <td>1</td>\n",
              "      <td>1000</td>\n",
              "      <td>0.031392</td>\n",
              "    </tr>\n",
              "  </tbody>\n",
              "</table>\n",
              "</div>\n",
              "      <button class=\"colab-df-convert\" onclick=\"convertToInteractive('df-409ad584-0d2b-447c-8fd2-03691e64d46e')\"\n",
              "              title=\"Convert this dataframe to an interactive table.\"\n",
              "              style=\"display:none;\">\n",
              "        \n",
              "  <svg xmlns=\"http://www.w3.org/2000/svg\" height=\"24px\"viewBox=\"0 0 24 24\"\n",
              "       width=\"24px\">\n",
              "    <path d=\"M0 0h24v24H0V0z\" fill=\"none\"/>\n",
              "    <path d=\"M18.56 5.44l.94 2.06.94-2.06 2.06-.94-2.06-.94-.94-2.06-.94 2.06-2.06.94zm-11 1L8.5 8.5l.94-2.06 2.06-.94-2.06-.94L8.5 2.5l-.94 2.06-2.06.94zm10 10l.94 2.06.94-2.06 2.06-.94-2.06-.94-.94-2.06-.94 2.06-2.06.94z\"/><path d=\"M17.41 7.96l-1.37-1.37c-.4-.4-.92-.59-1.43-.59-.52 0-1.04.2-1.43.59L10.3 9.45l-7.72 7.72c-.78.78-.78 2.05 0 2.83L4 21.41c.39.39.9.59 1.41.59.51 0 1.02-.2 1.41-.59l7.78-7.78 2.81-2.81c.8-.78.8-2.07 0-2.86zM5.41 20L4 18.59l7.72-7.72 1.47 1.35L5.41 20z\"/>\n",
              "  </svg>\n",
              "      </button>\n",
              "      \n",
              "  <style>\n",
              "    .colab-df-container {\n",
              "      display:flex;\n",
              "      flex-wrap:wrap;\n",
              "      gap: 12px;\n",
              "    }\n",
              "\n",
              "    .colab-df-convert {\n",
              "      background-color: #E8F0FE;\n",
              "      border: none;\n",
              "      border-radius: 50%;\n",
              "      cursor: pointer;\n",
              "      display: none;\n",
              "      fill: #1967D2;\n",
              "      height: 32px;\n",
              "      padding: 0 0 0 0;\n",
              "      width: 32px;\n",
              "    }\n",
              "\n",
              "    .colab-df-convert:hover {\n",
              "      background-color: #E2EBFA;\n",
              "      box-shadow: 0px 1px 2px rgba(60, 64, 67, 0.3), 0px 1px 3px 1px rgba(60, 64, 67, 0.15);\n",
              "      fill: #174EA6;\n",
              "    }\n",
              "\n",
              "    [theme=dark] .colab-df-convert {\n",
              "      background-color: #3B4455;\n",
              "      fill: #D2E3FC;\n",
              "    }\n",
              "\n",
              "    [theme=dark] .colab-df-convert:hover {\n",
              "      background-color: #434B5C;\n",
              "      box-shadow: 0px 1px 3px 1px rgba(0, 0, 0, 0.15);\n",
              "      filter: drop-shadow(0px 1px 2px rgba(0, 0, 0, 0.3));\n",
              "      fill: #FFFFFF;\n",
              "    }\n",
              "  </style>\n",
              "\n",
              "      <script>\n",
              "        const buttonEl =\n",
              "          document.querySelector('#df-409ad584-0d2b-447c-8fd2-03691e64d46e button.colab-df-convert');\n",
              "        buttonEl.style.display =\n",
              "          google.colab.kernel.accessAllowed ? 'block' : 'none';\n",
              "\n",
              "        async function convertToInteractive(key) {\n",
              "          const element = document.querySelector('#df-409ad584-0d2b-447c-8fd2-03691e64d46e');\n",
              "          const dataTable =\n",
              "            await google.colab.kernel.invokeFunction('convertToInteractive',\n",
              "                                                     [key], {});\n",
              "          if (!dataTable) return;\n",
              "\n",
              "          const docLinkHtml = 'Like what you see? Visit the ' +\n",
              "            '<a target=\"_blank\" href=https://colab.research.google.com/notebooks/data_table.ipynb>data table notebook</a>'\n",
              "            + ' to learn more about interactive tables.';\n",
              "          element.innerHTML = '';\n",
              "          dataTable['output_type'] = 'display_data';\n",
              "          await google.colab.output.renderOutput(dataTable, element);\n",
              "          const docLink = document.createElement('div');\n",
              "          docLink.innerHTML = docLinkHtml;\n",
              "          element.appendChild(docLink);\n",
              "        }\n",
              "      </script>\n",
              "    </div>\n",
              "  </div>\n",
              "  "
            ]
          },
          "metadata": {},
          "execution_count": 36
        }
      ]
    },
    {
      "cell_type": "code",
      "source": [
        "plt.figure(figsize=(10,10))\n",
        "\n",
        "naive = results[ results['kernel'] == 0]\n",
        "simple = results[ results['kernel'] == 1]\n",
        "\n",
        "plt.scatter(naive['buckets'],naive['time'],c='r',label='naive')\n",
        "plt.scatter(simple['buckets'],simple['time'],c='b',label='simple')\n",
        "\n",
        "plt.legend()\n",
        "plt.title(f'Czas wykonania w zależności od ilości kubełków')\n",
        "plt.xlabel('ilość kubełków')\n",
        "plt.ylabel(f'czas [ms]')\n",
        "plt.show()"
      ],
      "metadata": {
        "id": "yVPpydNdxNC7",
        "outputId": "d37ff1d4-a3e3-413b-e256-d48d9a735c4d",
        "colab": {
          "base_uri": "https://localhost:8080/",
          "height": 621
        }
      },
      "execution_count": null,
      "outputs": [
        {
          "output_type": "display_data",
          "data": {
            "text/plain": [
              "<Figure size 720x720 with 1 Axes>"
            ],
            "image/png": "[encoded data removed]"
          },
          "metadata": {
            "needs_background": "light"
          }
        }
      ]
    }
  ]
}