{
  "nbformat": 4,
  "nbformat_minor": 0,
  "metadata": {
    "colab": {
      "name": "CUDA_lab2.ipynb",
      "provenance": [],
      "collapsed_sections": [],
      "authorship_tag": "ABX9TyPKazu8KoGg5dSHhSEJB4PB",
      "include_colab_link": true
    },
    "kernelspec": {
      "name": "python3",
      "display_name": "Python 3"
    },
    "language_info": {
      "name": "python"
    },
    "accelerator": "GPU"
  },
  "cells": [
    {
      "cell_type": "markdown",
      "metadata": {
        "id": "view-in-github",
        "colab_type": "text"
      },
      "source": [
        "<a href=\"https://colab.research.google.com/github/PKopel/mpr/blob/cuda/CUDA_lab2.ipynb\" target=\"_parent\"><img src=\"https://colab.research.google.com/assets/colab-badge.svg\" alt=\"Open In Colab\"/></a>"
      ]
    },
    {
      "cell_type": "code",
      "execution_count": null,
      "metadata": {
        "colab": {
          "base_uri": "https://localhost:8080/"
        },
        "id": "hcBYaEEszdW2",
        "outputId": "a66b8c09-13a2-43df-d89e-5c3013f272b3"
      },
      "outputs": [
        {
          "output_type": "stream",
          "name": "stdout",
          "text": [
            "Archive:  CUDA-Lab02.zip\n",
            "   creating: CUDA-Lab02/\n",
            "  inflating: CUDA-Lab02/aerosmith-double.pgm  \n",
            "  inflating: CUDA-Lab02/image_scaling.cu  \n",
            "  inflating: CUDA-Lab02/matrix_transpose.cu  \n",
            "  inflating: CUDA-Lab02/matrix_transpose_2.cu  \n",
            "  inflating: CUDA-Lab02/scrImagePgmPpmPackage.cpp  \n",
            "  inflating: CUDA-Lab02/scrImagePgmPpmPackage.h  \n",
            "  inflating: CUDA-Lab02/voyager2.pgm  \n"
          ]
        }
      ],
      "source": [
        "!unzip CUDA-Lab02.zip"
      ]
    },
    {
      "cell_type": "code",
      "source": [
        "!nvcc --version\n",
        "!nvidia-smi"
      ],
      "metadata": {
        "colab": {
          "base_uri": "https://localhost:8080/"
        },
        "id": "zcFbbQbaJHOF",
        "outputId": "a5109d7c-9a49-4d0f-e03d-9ab780634ae7"
      },
      "execution_count": null,
      "outputs": [
        {
          "output_type": "stream",
          "name": "stdout",
          "text": [
            "nvcc: NVIDIA (R) Cuda compiler driver\n",
            "Copyright (c) 2005-2020 NVIDIA Corporation\n",
            "Built on Mon_Oct_12_20:09:46_PDT_2020\n",
            "Cuda compilation tools, release 11.1, V11.1.105\n",
            "Build cuda_11.1.TC455_06.29190527_0\n",
            "Mon Jun  6 22:32:07 2022       \n",
            "+-----------------------------------------------------------------------------+\n",
            "| NVIDIA-SMI 460.32.03    Driver Version: 460.32.03    CUDA Version: 11.2     |\n",
            "|-------------------------------+----------------------+----------------------+\n",
            "| GPU  Name        Persistence-M| Bus-Id        Disp.A | Volatile Uncorr. ECC |\n",
            "| Fan  Temp  Perf  Pwr:Usage/Cap|         Memory-Usage | GPU-Util  Compute M. |\n",
            "|                               |                      |               MIG M. |\n",
            "|===============================+======================+======================|\n",
            "|   0  Tesla T4            Off  | 00000000:00:04.0 Off |                    0 |\n",
            "| N/A   58C    P8     9W /  70W |      0MiB / 15109MiB |      0%      Default |\n",
            "|                               |                      |                  N/A |\n",
            "+-------------------------------+----------------------+----------------------+\n",
            "                                                                               \n",
            "+-----------------------------------------------------------------------------+\n",
            "| Processes:                                                                  |\n",
            "|  GPU   GI   CI        PID   Type   Process name                  GPU Memory |\n",
            "|        ID   ID                                                   Usage      |\n",
            "|=============================================================================|\n",
            "|  No running processes found                                                 |\n",
            "+-----------------------------------------------------------------------------+\n"
          ]
        }
      ]
    },
    {
      "cell_type": "code",
      "source": [
        "%%writefile gputimer.h\n",
        "#ifndef __GPU_TIMER_H__\n",
        "#define __GPU_TIMER_H__\n",
        "\n",
        "class GpuTimer\n",
        "{\n",
        "    public:\n",
        "      cudaEvent_t start;\n",
        "      cudaEvent_t stop;\n",
        " \n",
        "      GpuTimer()\n",
        "      {\n",
        "            cudaEventCreate(&start);\n",
        "            cudaEventCreate(&stop);\n",
        "      }\n",
        " \n",
        "      ~GpuTimer()\n",
        "      {\n",
        "            cudaEventDestroy(start);\n",
        "            cudaEventDestroy(stop);\n",
        "      }\n",
        " \n",
        "      void Start()\n",
        "      {\n",
        "            cudaEventRecord(start, 0);\n",
        "      }\n",
        " \n",
        "      void Stop()\n",
        "      {\n",
        "            cudaEventRecord(stop, 0);\n",
        "      }\n",
        " \n",
        "      float Elapsed()\n",
        "      {\n",
        "            float elapsed;\n",
        "            cudaEventSynchronize(stop);\n",
        "            cudaEventElapsedTime(&elapsed, start, stop);\n",
        "            return elapsed;\n",
        "      }\n",
        "};\n",
        "\n",
        "#endif  /* __GPU_TIMER_H__ */"
      ],
      "metadata": {
        "colab": {
          "base_uri": "https://localhost:8080/"
        },
        "id": "HjIG7Ss-GxfQ",
        "outputId": "b521503e-4cf1-4b15-dd72-3dc40bf478f2"
      },
      "execution_count": null,
      "outputs": [
        {
          "output_type": "stream",
          "name": "stdout",
          "text": [
            "Writing gputimer.h\n"
          ]
        }
      ]
    },
    {
      "cell_type": "markdown",
      "source": [
        "# Transpozycja macierzy"
      ],
      "metadata": {
        "id": "oyMj3x0BGDIF"
      }
    },
    {
      "cell_type": "code",
      "source": [
        "%%writefile matrix_transpose.cu \n",
        "#include<stdio.h>\n",
        "#include<stdlib.h>\n",
        "#include \"gputimer.h\"\n",
        "\n",
        "__global__ void matrix_transpose_naive(int N, int *input, int *output) {\n",
        "\n",
        "\tint indexX = threadIdx.x + blockIdx.x * blockDim.x;\n",
        "\tint indexY = threadIdx.y + blockIdx.y * blockDim.y;\n",
        "\tint index = indexY * N + indexX;\n",
        "\tint transposedIndex = indexX * N + indexY;\n",
        "\n",
        "    // this has discoalesced global memory store  \n",
        "\toutput[transposedIndex] = input[index];\n",
        "\n",
        "\t// this has discoalesced global memore load\n",
        "\t// output[index] = input[transposedIndex];\n",
        "}\n",
        "\n",
        "__global__ void matrix_transpose_shared(int N, int *input, int *output) {\n",
        "\n",
        "\textern __shared__ int sharedMemory [];\n",
        "\n",
        "\tint indexX = threadIdx.x + blockIdx.x * blockDim.x;\n",
        "\tint indexY = threadIdx.y + blockIdx.y * blockDim.y;\n",
        "\tint index = indexY * N + indexX;\n",
        "\tint transposedIndex = indexX * N + indexY;\n",
        "\n",
        "\t// global index\t\n",
        "\t// int indexX = threadIdx.x + blockIdx.x * blockDim.x;\n",
        "\t// int indexY = threadIdx.y + blockIdx.y * blockDim.y;\n",
        "\n",
        "\t// transposed global memory index\n",
        "\t// int tindexX = threadIdx.x + blockIdx.y * blockDim.x;\n",
        "\t// int tindexY = threadIdx.y + blockIdx.x * blockDim.y;\n",
        "\n",
        "\t// local index\n",
        "\t// int localIndexX = threadIdx.x;\n",
        "\t// int localIndexY = threadIdx.y;\n",
        "\n",
        "\t// int index = indexY * N + indexX;\n",
        "\t// int transposedIndex = tindexY * N + tindexX;\n",
        "\n",
        "\t// reading from global memory in coalesed manner and performing tanspose in shared memory\n",
        "\t//sharedMemory[localIndexX][localIndexY] = input[index];\n",
        "  sharedMemory[index] = input[index];\n",
        "\n",
        "\t__syncthreads();\n",
        "\n",
        "\t// writing into global memory in coalesed fashion via transposed data in shared memory\n",
        "\t// output[transposedIndex] = sharedMemory[localIndexY][localIndexX];\n",
        "  output[transposedIndex] = sharedMemory[index];\n",
        "}\n",
        "\n",
        "//basically just fills the array with index.\n",
        "void fill_array(int N, int *data) {\n",
        "\tfor(int idx=0;idx<(N*N);idx++)\n",
        "\t\tdata[idx] = idx;\n",
        "}\n",
        "\n",
        "void print_output(int N, int *a, int *b) {\n",
        "\tprintf(\"\\n Original Matrix::\\n\");\n",
        "\tfor(int idx=0;idx<(N*N);idx++) {\n",
        "\t\tif(idx%N == 0)\n",
        "\t\t\tprintf(\"\\n\");\n",
        "\t\tprintf(\" %d \",  a[idx]);\n",
        "\t}\n",
        "\tprintf(\"\\n Transposed Matrix::\\n\");\n",
        "\tfor(int idx=0;idx<(N*N);idx++) {\n",
        "\t\tif(idx%N == 0)\n",
        "\t\t\tprintf(\"\\n\");\n",
        "\t\tprintf(\" %d \",  b[idx]);\n",
        "\t}\n",
        "}\n",
        "\n",
        "int main(int argc, char *argv[]) {\n",
        "    \n",
        "  if (argc < 3) {\n",
        "    exit(1);\n",
        "  }\n",
        "  int BLOCK_SIZE = atoi(argv[1]);\n",
        "  int N = atoi(argv[2]);\n",
        "\n",
        "  printf(\"%d,%d\", N, BLOCK_SIZE);\n",
        "\t\n",
        "  int *a, *b;\n",
        "  int *d_a, *d_b; // device copies of a, b, c\n",
        "\n",
        "\tint size = N * N *sizeof(int);\n",
        "\n",
        "\t// Alloc space for host copies of a, b, c and setup input values\n",
        "\ta = (int *)malloc(size); fill_array(N, a);\n",
        "\tb = (int *)malloc(size);\n",
        "\n",
        "\t// Alloc space for device copies of a, b, c\n",
        "\tcudaMalloc((void **)&d_a, size);\n",
        "\tcudaMalloc((void **)&d_b, size);\n",
        "\n",
        "\t// Copy inputs to device\n",
        "\tcudaMemcpy(d_a, a, size, cudaMemcpyHostToDevice);\n",
        "\tcudaMemcpy(d_b, b, size, cudaMemcpyHostToDevice);\n",
        "\n",
        "\tdim3 blockSize(BLOCK_SIZE,BLOCK_SIZE,1);\n",
        "\tdim3 gridSize(N/BLOCK_SIZE,N/BLOCK_SIZE,1);\n",
        "\n",
        "  GpuTimer timer;\n",
        "  timer.Start();\n",
        "\n",
        "\tmatrix_transpose_naive<<<gridSize,blockSize>>>(N, d_a,d_b);\n",
        "\t    \n",
        "  cudaDeviceSynchronize();\n",
        "    \n",
        "  timer.Stop();\n",
        "  printf(\",%f\", timer.Elapsed());\n",
        "\n",
        "\t// Copy result back to host\n",
        "\t// cudaMemcpy(b, d_b, size, cudaMemcpyDeviceToHost);\n",
        "\t// print_output(a,b);\n",
        "\n",
        "  timer.Start();\n",
        "\n",
        "\tmatrix_transpose_shared<<<gridSize,blockSize, size>>>(N, d_a,d_b);\n",
        "\t    \n",
        "  cudaDeviceSynchronize();\n",
        "    \n",
        "  timer.Stop();\n",
        "  printf(\",%f\\n\", timer.Elapsed());\n",
        "\n",
        "\t// Copy result back to host\n",
        "\tcudaMemcpy(b, d_b, size, cudaMemcpyDeviceToHost);\n",
        "\t// print_output(a,b);\n",
        "\n",
        "\t// terminate memories\n",
        "\tfree(a);\n",
        "\tfree(b);\n",
        "  cudaFree(d_a);\n",
        "\tcudaFree(d_b); \n",
        "\n",
        "\treturn 0;\n",
        "}"
      ],
      "metadata": {
        "colab": {
          "base_uri": "https://localhost:8080/"
        },
        "id": "o5qoBkPoGBzu",
        "outputId": "78760592-8569-4991-81b9-7dfc09fd1c3e"
      },
      "execution_count": null,
      "outputs": [
        {
          "output_type": "stream",
          "name": "stdout",
          "text": [
            "Overwriting matrix_transpose.cu\n"
          ]
        }
      ]
    },
    {
      "cell_type": "code",
      "source": [
        "!nvcc -o matrix_transpose matrix_transpose.cu "
      ],
      "metadata": {
        "id": "36r8SjarJE7a"
      },
      "execution_count": null,
      "outputs": []
    },
    {
      "cell_type": "markdown",
      "source": [
        "running: `./matrix_transpose <#threads> <size>`"
      ],
      "metadata": {
        "id": "4FUFN9MrN_l6"
      }
    },
    {
      "cell_type": "code",
      "source": [
        "%%writefile run.sh\n",
        "#!/usr/bin/env bash\n",
        "\n",
        "echo \"size,threads,naive,shared\" > results_1.csv\n",
        "\n",
        "for i in 16 32 64; do\n",
        "  ./matrix_transpose $i 2048 >> results_1.csv\n",
        "done\n",
        "\n",
        "for i in 1024 2048 4096; do\n",
        "  ./matrix_transpose 32 $i >> results_1.csv\n",
        "done\n"
      ],
      "metadata": {
        "colab": {
          "base_uri": "https://localhost:8080/"
        },
        "id": "RK9xgmc1NTH0",
        "outputId": "c458dc85-cfd7-44e0-ffce-8235f3874550"
      },
      "execution_count": null,
      "outputs": [
        {
          "output_type": "stream",
          "name": "stdout",
          "text": [
            "Overwriting run.sh\n"
          ]
        }
      ]
    },
    {
      "cell_type": "code",
      "source": [
        "!chmod +x run.sh\n",
        "!./run.sh"
      ],
      "metadata": {
        "id": "cJ5DZ2ALOB6k"
      },
      "execution_count": null,
      "outputs": []
    },
    {
      "cell_type": "code",
      "source": [
        "%%writefile matrix_transpose_2.cu \n",
        "#include<stdio.h>\n",
        "#include<stdlib.h>\n",
        "#include \"gputimer.h\"\n",
        "\n",
        "#define N 4096\n",
        "#define BLOCK_SIZE 32\n",
        "\n",
        "__global__ void matrix_transpose_naive(int *input, int *output) {\n",
        "\n",
        "\tint indexX = threadIdx.x + blockIdx.x * blockDim.x;\n",
        "\tint indexY = threadIdx.y + blockIdx.y * blockDim.y;\n",
        "\tint index = indexY * N + indexX;\n",
        "\tint transposedIndex = indexX * N + indexY;\n",
        "\n",
        "\t// this has discoalesced global memory store  \n",
        "\toutput[transposedIndex] = input[index];\n",
        "\n",
        "\t// this has discoalesced global memore load\n",
        "\t// output[index] = input[transposedIndex];\n",
        "}\n",
        "\n",
        "__global__ void matrix_transpose_shared(int *input, int *output) {\n",
        "\n",
        "\t__shared__ int sharedMemory [BLOCK_SIZE] [BLOCK_SIZE + 1];\n",
        "\n",
        "\t// global index\t\n",
        "\tint indexX = threadIdx.x + blockIdx.x * blockDim.x;\n",
        "\tint indexY = threadIdx.y + blockIdx.y * blockDim.y;\n",
        "\n",
        "\t// transposed global memory index\n",
        "\tint tindexX = threadIdx.x + blockIdx.y * blockDim.x;\n",
        "\tint tindexY = threadIdx.y + blockIdx.x * blockDim.y;\n",
        "\n",
        "\t// local index\n",
        "\tint localIndexX = threadIdx.x;\n",
        "\tint localIndexY = threadIdx.y;\n",
        "\n",
        "\tint index = indexY * N + indexX;\n",
        "\tint transposedIndex = tindexY * N + tindexX;\n",
        "\n",
        "\t// reading from global memory in coalesed manner and performing tanspose in shared memory\n",
        "\tsharedMemory[localIndexX][localIndexY] = input[index];\n",
        "\n",
        "\t__syncthreads();\n",
        "\n",
        "\t// writing into global memory in coalesed fashion via transposed data in shared memory\n",
        "\toutput[transposedIndex] = sharedMemory[localIndexY][localIndexX];\n",
        "}\n",
        "\n",
        "//basically just fills the array with index.\n",
        "void fill_array(int *data) {\n",
        "\tfor(int idx=0;idx<(N*N);idx++)\n",
        "\t\tdata[idx] = idx;\n",
        "}\n",
        "\n",
        "void print_output(int *a, int *b) {\n",
        "\tprintf(\"\\n Original Matrix::\\n\");\n",
        "\tfor(int idx=0;idx<(N*N);idx++) {\n",
        "\t\tif(idx%N == 0)\n",
        "\t\t\tprintf(\"\\n\");\n",
        "\t\tprintf(\" %d \",  a[idx]);\n",
        "\t}\n",
        "\tprintf(\"\\n Transposed Matrix::\\n\");\n",
        "\tfor(int idx=0;idx<(N*N);idx++) {\n",
        "\t\tif(idx%N == 0)\n",
        "\t\t\tprintf(\"\\n\");\n",
        "\t\tprintf(\" %d \",  b[idx]);\n",
        "\t}\n",
        "}\n",
        "\n",
        "int main(void) {\n",
        "  printf(\"%d,%d\", N, BLOCK_SIZE);\n",
        "\t\n",
        "  int *a, *b;\n",
        "  int *d_a, *d_b; // device copies of a, b, c\n",
        "\n",
        "\tint size = N * N *sizeof(int);\n",
        "\n",
        "\t// Alloc space for host copies of a, b, c and setup input values\n",
        "\ta = (int *)malloc(size); fill_array(a);\n",
        "\tb = (int *)malloc(size);\n",
        "\n",
        "\t// Alloc space for device copies of a, b, c\n",
        "\tcudaMalloc((void **)&d_a, size);\n",
        "\tcudaMalloc((void **)&d_b, size);\n",
        "\n",
        "\t// Copy inputs to device\n",
        "\tcudaMemcpy(d_a, a, size, cudaMemcpyHostToDevice);\n",
        "\tcudaMemcpy(d_b, b, size, cudaMemcpyHostToDevice);\n",
        "\n",
        "\tdim3 blockSize(BLOCK_SIZE,BLOCK_SIZE,1);\n",
        "\tdim3 gridSize(N/BLOCK_SIZE,N/BLOCK_SIZE,1);\n",
        "\n",
        "  GpuTimer timer;\n",
        "  timer.Start();\n",
        "\n",
        "\tmatrix_transpose_naive<<<gridSize,blockSize>>>(d_a,d_b);\n",
        "\t    \n",
        "  cudaDeviceSynchronize();\n",
        "    \n",
        "  timer.Stop();\n",
        "  printf(\",%f\", timer.Elapsed());\n",
        "\n",
        "\t// Copy result back to host\n",
        "\t// cudaMemcpy(b, d_b, size, cudaMemcpyDeviceToHost);\n",
        "\t// print_output(a,b);\n",
        "\n",
        "  timer.Start();\n",
        "\n",
        "\tmatrix_transpose_shared<<<gridSize,blockSize>>>(d_a,d_b);\n",
        "\t    \n",
        "  cudaDeviceSynchronize();\n",
        "    \n",
        "  timer.Stop();\n",
        "  printf(\",%f\", timer.Elapsed());\n",
        "\n",
        "\t// Copy result back to host\n",
        "\tcudaMemcpy(b, d_b, size, cudaMemcpyDeviceToHost);\n",
        "\t// print_output(a,b);\n",
        "\n",
        "\t// terminate memories\n",
        "\tfree(a); \n",
        "\tfree(b);\n",
        "  cudaFree(d_a); \n",
        "\tcudaFree(d_b); \n",
        "\n",
        "\treturn 0;\n",
        "}"
      ],
      "metadata": {
        "colab": {
          "base_uri": "https://localhost:8080/"
        },
        "id": "706f9lO5Gdk6",
        "outputId": "88bd25f4-cac9-4db7-90ab-8b2a7bfb659a"
      },
      "execution_count": null,
      "outputs": [
        {
          "output_type": "stream",
          "name": "stdout",
          "text": [
            "Overwriting matrix_transpose_2.cu\n"
          ]
        }
      ]
    },
    {
      "cell_type": "code",
      "source": [
        "!nvcc -o matrix_transpose_2 matrix_transpose_2.cu "
      ],
      "metadata": {
        "id": "MPbJvXnoI7zp"
      },
      "execution_count": null,
      "outputs": []
    },
    {
      "cell_type": "code",
      "source": [
        "!echo \"size,threads,naive,shared\" > results_2.csv"
      ],
      "metadata": {
        "id": "ukhMb6N9Op-Y"
      },
      "execution_count": null,
      "outputs": []
    },
    {
      "cell_type": "code",
      "source": [
        "!./matrix_transpose_2 >> results_2.csv"
      ],
      "metadata": {
        "id": "7DHKEWLCO0y0"
      },
      "execution_count": null,
      "outputs": []
    },
    {
      "cell_type": "code",
      "source": [
        "import matplotlib.pyplot as plt\n",
        "import pandas as pd\n",
        "%matplotlib inline"
      ],
      "metadata": {
        "id": "mTCdi-4VOO_U"
      },
      "execution_count": null,
      "outputs": []
    },
    {
      "cell_type": "code",
      "source": [
        "results = pd.read_csv('results_1.csv')\n",
        "results"
      ],
      "metadata": {
        "colab": {
          "base_uri": "https://localhost:8080/",
          "height": 238
        },
        "id": "7sAkQNGlOPjA",
        "outputId": "87e61ffa-0bec-4686-fbc1-5798a70ae885"
      },
      "execution_count": null,
      "outputs": [
        {
          "output_type": "execute_result",
          "data": {
            "text/plain": [
              "   size  threads     naive    shared\n",
              "0  2048       16  0.318688  0.007840\n",
              "1  2048       32  0.754400  0.008128\n",
              "2  2048       64  0.009312  0.007936\n",
              "3  1024       32  0.204608  0.007648\n",
              "4  2048       32  0.755008  0.008192\n",
              "5  4096       32  2.942016  0.008032"
            ],
            "text/html": [
              "\n",
              "  <div id=\"df-8f09dc5a-ec5a-46f0-a071-c0251472a47d\">\n",
              "    <div class=\"colab-df-container\">\n",
              "      <div>\n",
              "<style scoped>\n",
              "    .dataframe tbody tr th:only-of-type {\n",
              "        vertical-align: middle;\n",
              "    }\n",
              "\n",
              "    .dataframe tbody tr th {\n",
              "        vertical-align: top;\n",
              "    }\n",
              "\n",
              "    .dataframe thead th {\n",
              "        text-align: right;\n",
              "    }\n",
              "</style>\n",
              "<table border=\"1\" class=\"dataframe\">\n",
              "  <thead>\n",
              "    <tr style=\"text-align: right;\">\n",
              "      <th></th>\n",
              "      <th>size</th>\n",
              "      <th>threads</th>\n",
              "      <th>naive</th>\n",
              "      <th>shared</th>\n",
              "    </tr>\n",
              "  </thead>\n",
              "  <tbody>\n",
              "    <tr>\n",
              "      <th>0</th>\n",
              "      <td>2048</td>\n",
              "      <td>16</td>\n",
              "      <td>0.318688</td>\n",
              "      <td>0.007840</td>\n",
              "    </tr>\n",
              "    <tr>\n",
              "      <th>1</th>\n",
              "      <td>2048</td>\n",
              "      <td>32</td>\n",
              "      <td>0.754400</td>\n",
              "      <td>0.008128</td>\n",
              "    </tr>\n",
              "    <tr>\n",
              "      <th>2</th>\n",
              "      <td>2048</td>\n",
              "      <td>64</td>\n",
              "      <td>0.009312</td>\n",
              "      <td>0.007936</td>\n",
              "    </tr>\n",
              "    <tr>\n",
              "      <th>3</th>\n",
              "      <td>1024</td>\n",
              "      <td>32</td>\n",
              "      <td>0.204608</td>\n",
              "      <td>0.007648</td>\n",
              "    </tr>\n",
              "    <tr>\n",
              "      <th>4</th>\n",
              "      <td>2048</td>\n",
              "      <td>32</td>\n",
              "      <td>0.755008</td>\n",
              "      <td>0.008192</td>\n",
              "    </tr>\n",
              "    <tr>\n",
              "      <th>5</th>\n",
              "      <td>4096</td>\n",
              "      <td>32</td>\n",
              "      <td>2.942016</td>\n",
              "      <td>0.008032</td>\n",
              "    </tr>\n",
              "  </tbody>\n",
              "</table>\n",
              "</div>\n",
              "      <button class=\"colab-df-convert\" onclick=\"convertToInteractive('df-8f09dc5a-ec5a-46f0-a071-c0251472a47d')\"\n",
              "              title=\"Convert this dataframe to an interactive table.\"\n",
              "              style=\"display:none;\">\n",
              "        \n",
              "  <svg xmlns=\"http://www.w3.org/2000/svg\" height=\"24px\"viewBox=\"0 0 24 24\"\n",
              "       width=\"24px\">\n",
              "    <path d=\"M0 0h24v24H0V0z\" fill=\"none\"/>\n",
              "    <path d=\"M18.56 5.44l.94 2.06.94-2.06 2.06-.94-2.06-.94-.94-2.06-.94 2.06-2.06.94zm-11 1L8.5 8.5l.94-2.06 2.06-.94-2.06-.94L8.5 2.5l-.94 2.06-2.06.94zm10 10l.94 2.06.94-2.06 2.06-.94-2.06-.94-.94-2.06-.94 2.06-2.06.94z\"/><path d=\"M17.41 7.96l-1.37-1.37c-.4-.4-.92-.59-1.43-.59-.52 0-1.04.2-1.43.59L10.3 9.45l-7.72 7.72c-.78.78-.78 2.05 0 2.83L4 21.41c.39.39.9.59 1.41.59.51 0 1.02-.2 1.41-.59l7.78-7.78 2.81-2.81c.8-.78.8-2.07 0-2.86zM5.41 20L4 18.59l7.72-7.72 1.47 1.35L5.41 20z\"/>\n",
              "  </svg>\n",
              "      </button>\n",
              "      \n",
              "  <style>\n",
              "    .colab-df-container {\n",
              "      display:flex;\n",
              "      flex-wrap:wrap;\n",
              "      gap: 12px;\n",
              "    }\n",
              "\n",
              "    .colab-df-convert {\n",
              "      background-color: #E8F0FE;\n",
              "      border: none;\n",
              "      border-radius: 50%;\n",
              "      cursor: pointer;\n",
              "      display: none;\n",
              "      fill: #1967D2;\n",
              "      height: 32px;\n",
              "      padding: 0 0 0 0;\n",
              "      width: 32px;\n",
              "    }\n",
              "\n",
              "    .colab-df-convert:hover {\n",
              "      background-color: #E2EBFA;\n",
              "      box-shadow: 0px 1px 2px rgba(60, 64, 67, 0.3), 0px 1px 3px 1px rgba(60, 64, 67, 0.15);\n",
              "      fill: #174EA6;\n",
              "    }\n",
              "\n",
              "    [theme=dark] .colab-df-convert {\n",
              "      background-color: #3B4455;\n",
              "      fill: #D2E3FC;\n",
              "    }\n",
              "\n",
              "    [theme=dark] .colab-df-convert:hover {\n",
              "      background-color: #434B5C;\n",
              "      box-shadow: 0px 1px 3px 1px rgba(0, 0, 0, 0.15);\n",
              "      filter: drop-shadow(0px 1px 2px rgba(0, 0, 0, 0.3));\n",
              "      fill: #FFFFFF;\n",
              "    }\n",
              "  </style>\n",
              "\n",
              "      <script>\n",
              "        const buttonEl =\n",
              "          document.querySelector('#df-8f09dc5a-ec5a-46f0-a071-c0251472a47d button.colab-df-convert');\n",
              "        buttonEl.style.display =\n",
              "          google.colab.kernel.accessAllowed ? 'block' : 'none';\n",
              "\n",
              "        async function convertToInteractive(key) {\n",
              "          const element = document.querySelector('#df-8f09dc5a-ec5a-46f0-a071-c0251472a47d');\n",
              "          const dataTable =\n",
              "            await google.colab.kernel.invokeFunction('convertToInteractive',\n",
              "                                                     [key], {});\n",
              "          if (!dataTable) return;\n",
              "\n",
              "          const docLinkHtml = 'Like what you see? Visit the ' +\n",
              "            '<a target=\"_blank\" href=https://colab.research.google.com/notebooks/data_table.ipynb>data table notebook</a>'\n",
              "            + ' to learn more about interactive tables.';\n",
              "          element.innerHTML = '';\n",
              "          dataTable['output_type'] = 'display_data';\n",
              "          await google.colab.output.renderOutput(dataTable, element);\n",
              "          const docLink = document.createElement('div');\n",
              "          docLink.innerHTML = docLinkHtml;\n",
              "          element.appendChild(docLink);\n",
              "        }\n",
              "      </script>\n",
              "    </div>\n",
              "  </div>\n",
              "  "
            ]
          },
          "metadata": {},
          "execution_count": 67
        }
      ]
    },
    {
      "cell_type": "code",
      "source": [
        "plt.figure(figsize=(10,10))\n",
        "\n",
        "by_threads = results[ results['size'] == 2048]\n",
        "\n",
        "plt.scatter(by_threads['threads'],by_threads['naive'],c='r',label='naive')\n",
        "plt.scatter(by_threads['threads'],by_threads['shared'],c='b',label='shared')\n",
        "\n",
        "plt.legend()\n",
        "plt.title(f'Czas wykonania w zależności od ilości wątków w bloku')\n",
        "plt.xlabel('ilość wątków')\n",
        "plt.ylabel(f'czas [ms]')\n",
        "plt.show()"
      ],
      "metadata": {
        "colab": {
          "base_uri": "https://localhost:8080/",
          "height": 623
        },
        "id": "t7VWI1DwQB2t",
        "outputId": "a03de99c-e2ee-4366-de19-d44b7fe71ca4"
      },
      "execution_count": null,
      "outputs": [
        {
          "output_type": "display_data",
          "data": {
            "text/plain": [
              "<Figure size 720x720 with 1 Axes>"
            ],
            "image/png": "[encoded data removed]"
          },
          "metadata": {
            "needs_background": "light"
          }
        }
      ]
    },
    {
      "cell_type": "code",
      "source": [
        "plt.figure(figsize=(10,10))\n",
        "\n",
        "by_threads = results[ results['threads'] == 32]\n",
        "\n",
        "plt.scatter(by_threads['size'],by_threads['naive'],c='r',label='naive')\n",
        "plt.scatter(by_threads['size'],by_threads['shared'],c='b',label='shared')\n",
        "\n",
        "plt.legend()\n",
        "plt.title(f'Czas wykonania w zależności od wielkości problemu')\n",
        "plt.xlabel('wielkość problemu')\n",
        "plt.ylabel(f'czas [ms]')\n",
        "plt.xscale('log')\n",
        "plt.show()"
      ],
      "metadata": {
        "colab": {
          "base_uri": "https://localhost:8080/",
          "height": 626
        },
        "id": "6XME5ccXQC7H",
        "outputId": "4c74ee8e-3211-45e1-aa4a-55c1efe78b29"
      },
      "execution_count": null,
      "outputs": [
        {
          "output_type": "display_data",
          "data": {
            "text/plain": [
              "<Figure size 720x720 with 1 Axes>"
            ],
            "image/png": "[encoded data removed]"
          },
          "metadata": {
            "needs_background": "light"
          }
        }
      ]
    },
    {
      "cell_type": "code",
      "source": [
        "results = pd.read_csv('results_2.csv')\n",
        "results"
      ],
      "metadata": {
        "colab": {
          "base_uri": "https://localhost:8080/",
          "height": 238
        },
        "id": "6o-aJoSPPcsL",
        "outputId": "b76d6850-518f-4873-ab29-6e21a1dfbf91"
      },
      "execution_count": null,
      "outputs": [
        {
          "output_type": "execute_result",
          "data": {
            "text/plain": [
              "   size  threads     naive    shared\n",
              "0  2048       16  0.317728  0.193600\n",
              "1  2048       32  0.756192  0.210624\n",
              "2  2048       64  0.008896  0.007744\n",
              "3  1024       32  0.205024  0.061600\n",
              "4  2048       32  0.751776  0.210912\n",
              "5  4096       32  2.935872  0.801088"
            ],
            "text/html": [
              "\n",
              "  <div id=\"df-752f92a8-c1a1-433c-a0b2-e1d9d1cbe4bd\">\n",
              "    <div class=\"colab-df-container\">\n",
              "      <div>\n",
              "<style scoped>\n",
              "    .dataframe tbody tr th:only-of-type {\n",
              "        vertical-align: middle;\n",
              "    }\n",
              "\n",
              "    .dataframe tbody tr th {\n",
              "        vertical-align: top;\n",
              "    }\n",
              "\n",
              "    .dataframe thead th {\n",
              "        text-align: right;\n",
              "    }\n",
              "</style>\n",
              "<table border=\"1\" class=\"dataframe\">\n",
              "  <thead>\n",
              "    <tr style=\"text-align: right;\">\n",
              "      <th></th>\n",
              "      <th>size</th>\n",
              "      <th>threads</th>\n",
              "      <th>naive</th>\n",
              "      <th>shared</th>\n",
              "    </tr>\n",
              "  </thead>\n",
              "  <tbody>\n",
              "    <tr>\n",
              "      <th>0</th>\n",
              "      <td>2048</td>\n",
              "      <td>16</td>\n",
              "      <td>0.317728</td>\n",
              "      <td>0.193600</td>\n",
              "    </tr>\n",
              "    <tr>\n",
              "      <th>1</th>\n",
              "      <td>2048</td>\n",
              "      <td>32</td>\n",
              "      <td>0.756192</td>\n",
              "      <td>0.210624</td>\n",
              "    </tr>\n",
              "    <tr>\n",
              "      <th>2</th>\n",
              "      <td>2048</td>\n",
              "      <td>64</td>\n",
              "      <td>0.008896</td>\n",
              "      <td>0.007744</td>\n",
              "    </tr>\n",
              "    <tr>\n",
              "      <th>3</th>\n",
              "      <td>1024</td>\n",
              "      <td>32</td>\n",
              "      <td>0.205024</td>\n",
              "      <td>0.061600</td>\n",
              "    </tr>\n",
              "    <tr>\n",
              "      <th>4</th>\n",
              "      <td>2048</td>\n",
              "      <td>32</td>\n",
              "      <td>0.751776</td>\n",
              "      <td>0.210912</td>\n",
              "    </tr>\n",
              "    <tr>\n",
              "      <th>5</th>\n",
              "      <td>4096</td>\n",
              "      <td>32</td>\n",
              "      <td>2.935872</td>\n",
              "      <td>0.801088</td>\n",
              "    </tr>\n",
              "  </tbody>\n",
              "</table>\n",
              "</div>\n",
              "      <button class=\"colab-df-convert\" onclick=\"convertToInteractive('df-752f92a8-c1a1-433c-a0b2-e1d9d1cbe4bd')\"\n",
              "              title=\"Convert this dataframe to an interactive table.\"\n",
              "              style=\"display:none;\">\n",
              "        \n",
              "  <svg xmlns=\"http://www.w3.org/2000/svg\" height=\"24px\"viewBox=\"0 0 24 24\"\n",
              "       width=\"24px\">\n",
              "    <path d=\"M0 0h24v24H0V0z\" fill=\"none\"/>\n",
              "    <path d=\"M18.56 5.44l.94 2.06.94-2.06 2.06-.94-2.06-.94-.94-2.06-.94 2.06-2.06.94zm-11 1L8.5 8.5l.94-2.06 2.06-.94-2.06-.94L8.5 2.5l-.94 2.06-2.06.94zm10 10l.94 2.06.94-2.06 2.06-.94-2.06-.94-.94-2.06-.94 2.06-2.06.94z\"/><path d=\"M17.41 7.96l-1.37-1.37c-.4-.4-.92-.59-1.43-.59-.52 0-1.04.2-1.43.59L10.3 9.45l-7.72 7.72c-.78.78-.78 2.05 0 2.83L4 21.41c.39.39.9.59 1.41.59.51 0 1.02-.2 1.41-.59l7.78-7.78 2.81-2.81c.8-.78.8-2.07 0-2.86zM5.41 20L4 18.59l7.72-7.72 1.47 1.35L5.41 20z\"/>\n",
              "  </svg>\n",
              "      </button>\n",
              "      \n",
              "  <style>\n",
              "    .colab-df-container {\n",
              "      display:flex;\n",
              "      flex-wrap:wrap;\n",
              "      gap: 12px;\n",
              "    }\n",
              "\n",
              "    .colab-df-convert {\n",
              "      background-color: #E8F0FE;\n",
              "      border: none;\n",
              "      border-radius: 50%;\n",
              "      cursor: pointer;\n",
              "      display: none;\n",
              "      fill: #1967D2;\n",
              "      height: 32px;\n",
              "      padding: 0 0 0 0;\n",
              "      width: 32px;\n",
              "    }\n",
              "\n",
              "    .colab-df-convert:hover {\n",
              "      background-color: #E2EBFA;\n",
              "      box-shadow: 0px 1px 2px rgba(60, 64, 67, 0.3), 0px 1px 3px 1px rgba(60, 64, 67, 0.15);\n",
              "      fill: #174EA6;\n",
              "    }\n",
              "\n",
              "    [theme=dark] .colab-df-convert {\n",
              "      background-color: #3B4455;\n",
              "      fill: #D2E3FC;\n",
              "    }\n",
              "\n",
              "    [theme=dark] .colab-df-convert:hover {\n",
              "      background-color: #434B5C;\n",
              "      box-shadow: 0px 1px 3px 1px rgba(0, 0, 0, 0.15);\n",
              "      filter: drop-shadow(0px 1px 2px rgba(0, 0, 0, 0.3));\n",
              "      fill: #FFFFFF;\n",
              "    }\n",
              "  </style>\n",
              "\n",
              "      <script>\n",
              "        const buttonEl =\n",
              "          document.querySelector('#df-752f92a8-c1a1-433c-a0b2-e1d9d1cbe4bd button.colab-df-convert');\n",
              "        buttonEl.style.display =\n",
              "          google.colab.kernel.accessAllowed ? 'block' : 'none';\n",
              "\n",
              "        async function convertToInteractive(key) {\n",
              "          const element = document.querySelector('#df-752f92a8-c1a1-433c-a0b2-e1d9d1cbe4bd');\n",
              "          const dataTable =\n",
              "            await google.colab.kernel.invokeFunction('convertToInteractive',\n",
              "                                                     [key], {});\n",
              "          if (!dataTable) return;\n",
              "\n",
              "          const docLinkHtml = 'Like what you see? Visit the ' +\n",
              "            '<a target=\"_blank\" href=https://colab.research.google.com/notebooks/data_table.ipynb>data table notebook</a>'\n",
              "            + ' to learn more about interactive tables.';\n",
              "          element.innerHTML = '';\n",
              "          dataTable['output_type'] = 'display_data';\n",
              "          await google.colab.output.renderOutput(dataTable, element);\n",
              "          const docLink = document.createElement('div');\n",
              "          docLink.innerHTML = docLinkHtml;\n",
              "          element.appendChild(docLink);\n",
              "        }\n",
              "      </script>\n",
              "    </div>\n",
              "  </div>\n",
              "  "
            ]
          },
          "metadata": {},
          "execution_count": 71
        }
      ]
    },
    {
      "cell_type": "code",
      "source": [
        "plt.figure(figsize=(10,10))\n",
        "\n",
        "by_threads = results[ results['size'] == 2048]\n",
        "\n",
        "plt.scatter(by_threads['threads'],by_threads['naive'],c='r',label='naive')\n",
        "plt.scatter(by_threads['threads'],by_threads['shared'],c='b',label='shared')\n",
        "\n",
        "plt.legend()\n",
        "plt.title(f'Czas wykonania w zależności od ilości wątków w bloku')\n",
        "plt.xlabel('ilość wątków')\n",
        "plt.ylabel(f'czas [ms]')\n",
        "plt.show()"
      ],
      "metadata": {
        "colab": {
          "base_uri": "https://localhost:8080/",
          "height": 623
        },
        "id": "9bGomxEJQ6ik",
        "outputId": "079bb737-14d8-47e1-fcad-ac16f82a3615"
      },
      "execution_count": null,
      "outputs": [
        {
          "output_type": "display_data",
          "data": {
            "text/plain": [
              "<Figure size 720x720 with 1 Axes>"
            ],
            "image/png": "[encoded data removed]"
          },
          "metadata": {
            "needs_background": "light"
          }
        }
      ]
    },
    {
      "cell_type": "code",
      "source": [
        "plt.figure(figsize=(10,10))\n",
        "\n",
        "by_threads = results[ results['threads'] == 32]\n",
        "\n",
        "plt.scatter(by_threads['size'],by_threads['naive'],c='r',label='naive')\n",
        "plt.scatter(by_threads['size'],by_threads['shared'],c='b',label='shared')\n",
        "\n",
        "plt.legend()\n",
        "plt.title(f'Czas wykonania w zależności od wielkości problemu')\n",
        "plt.xlabel('wielkość problemu')\n",
        "plt.ylabel(f'czas [ms]')\n",
        "plt.xscale('log')\n",
        "plt.show()"
      ],
      "metadata": {
        "colab": {
          "base_uri": "https://localhost:8080/",
          "height": 626
        },
        "id": "k-0UhIfOQ661",
        "outputId": "5b6ae84b-3807-492a-fb94-d749d9a0bc34"
      },
      "execution_count": null,
      "outputs": [
        {
          "output_type": "display_data",
          "data": {
            "text/plain": [
              "<Figure size 720x720 with 1 Axes>"
            ],
            "image/png": "[encoded data removed]"
          },
          "metadata": {
            "needs_background": "light"
          }
        }
      ]
    },
    {
      "cell_type": "markdown",
      "source": [
        "# Image scaling"
      ],
      "metadata": {
        "id": "u4DympblRCNF"
      }
    },
    {
      "cell_type": "code",
      "source": [
        "%%writefile image_scaling.cu\n",
        "#include <stdio.h>\n",
        "#include <stdlib.h>\n",
        "#include \"CUDA-Lab02/scrImagePgmPpmPackage.h\"\n",
        "#include \"gputimer.h\"\n",
        "\n",
        "//Kernel which calculate the resized image\n",
        "__global__ void createResizedImage(unsigned char *imageScaledData, int scaled_width, float scale_factor, cudaTextureObject_t texObj)\n",
        "{\n",
        "\tconst unsigned int tidX = blockIdx.x * blockDim.x + threadIdx.x;\n",
        "\tconst unsigned int tidY = blockIdx.y * blockDim.y + threadIdx.y;\n",
        "\tconst unsigned index = tidY * scaled_width + tidX;\n",
        "       \t\n",
        "\t// Step 4: Read the texture memory from your texture reference in CUDA Kernel\n",
        "\t// printf(\"index: %d\\n\", index);\n",
        "\timageScaledData[index] = tex2D<unsigned char>(texObj,(float)(tidX * scale_factor),(float)(tidY * scale_factor));\n",
        "}\n",
        "\n",
        "int main(int argc, char*argv[])\n",
        "{\n",
        "\tint height=0, width =0, scaled_height=0,scaled_width=0;\n",
        "\t//Define the scaling ratio\t\n",
        "\tfloat scaling_ratio=2.0;\n",
        "\tunsigned char*data;\n",
        "\tunsigned char*scaled_data,*d_scaled_data;\n",
        "\n",
        "  int BLOCK_SIZE = atoi(argv[1]);\n",
        "\tchar* inputStr = argv[2];\n",
        "\tchar outputStr[1024] = {\"double-scaled.pgm\"};\n",
        "\tcudaError_t returnValue;\n",
        "\n",
        "\t//Create a channel Description to be used while linking to the tecture\n",
        "\tcudaArray* cu_array;\n",
        "\tcudaChannelFormatKind kind = cudaChannelFormatKindUnsigned;\n",
        "\tcudaChannelFormatDesc channelDesc = cudaCreateChannelDesc(8, 0, 0, 0, kind);\n",
        "\n",
        "\tget_PgmPpmParams(inputStr, &height, &width);\t//getting height and width of the current image\n",
        "\tdata = (unsigned char*)malloc(height*width*sizeof(unsigned char));\n",
        "\t// printf(\"\\n Reading image width height and width [%d][%d]\", height, width);\n",
        "\tscr_read_pgm( inputStr , data, height, width );//loading an image to \"inputimage\"\n",
        "\n",
        "\tscaled_height = (int)(height*scaling_ratio);\n",
        "\tscaled_width = (int)(width*scaling_ratio);\n",
        "\tscaled_data = (unsigned char*)malloc(scaled_height*scaled_width*sizeof(unsigned char));\n",
        "\t// printf(\"\\n scaled image width height and width [%d][%d]\", scaled_height, scaled_width);\n",
        "\n",
        "\t//Allocate CUDA Array\n",
        " \treturnValue = cudaMallocArray( &cu_array, &channelDesc, width, height);\n",
        "\t// printf(\"\\n%s\", cudaGetErrorString(returnValue));\n",
        "\t// cudaMemcpyToArray()\n",
        "\treturnValue = (cudaError_t)(returnValue | cudaMemcpyToArray( cu_array, 0, 0, data, height * width * sizeof(unsigned char), cudaMemcpyHostToDevice));\n",
        "\t// printf(\"\\n%s\", cudaGetErrorString(returnValue));\n",
        "\n",
        "\t// if(returnValue != cudaSuccess)\n",
        "\t//\t printf(\"\\n Got error while running CUDA API Array Copy\");\n",
        "\n",
        "\t// Step 1. Specify texture\n",
        "\tstruct cudaResourceDesc resDesc;\n",
        "\tmemset(&resDesc, 0, sizeof(resDesc));\n",
        "\tresDesc.resType = cudaResourceTypeArray;\n",
        "\tresDesc.res.array.array = cu_array;\n",
        "\n",
        "\t// Step 2. Specify texture object parameters\n",
        "\tstruct cudaTextureDesc texDesc;\n",
        "\tmemset(&texDesc, 0, sizeof(texDesc));\n",
        "\ttexDesc.addressMode[0] = cudaAddressModeClamp;\n",
        "\ttexDesc.addressMode[1] = cudaAddressModeClamp;\n",
        "\ttexDesc.filterMode = cudaFilterModePoint;\n",
        "\ttexDesc.readMode = cudaReadModeElementType;\n",
        "\ttexDesc.normalizedCoords = 0;\n",
        "\n",
        "\t// Step 3: Create texture object\n",
        "\tcudaTextureObject_t texObj = 0;\n",
        "\tcudaCreateTextureObject(&texObj, &resDesc, &texDesc, NULL);\n",
        "\n",
        "\t// if(returnValue != cudaSuccess) \n",
        "\t//   printf(\"\\n Got error while running CUDA API Bind Texture\");\n",
        "\t\n",
        "\tcudaMalloc(&d_scaled_data, scaled_height*scaled_width*sizeof(unsigned char) );\n",
        "\n",
        "\tdim3 dimBlock(BLOCK_SIZE, BLOCK_SIZE, 1);\n",
        "\tdim3 dimGrid(scaled_width / dimBlock.x + 1, scaled_height / dimBlock.y + 1, 1);\n",
        "\t// printf(\"\\n Launching grid with blocks [%d][%d] \", dimGrid.x,dimGrid.y);\n",
        " \n",
        "  GpuTimer timer;\n",
        "  timer.Start();\n",
        "\n",
        "\tcreateResizedImage<<<dimGrid, dimBlock>>>(d_scaled_data, scaled_width, 1.0 / scaling_ratio, texObj);\n",
        "\t    \n",
        "  cudaDeviceSynchronize();\n",
        "    \n",
        "  timer.Stop();\n",
        "  printf(\"%s,%d,%f\\n\", inputStr, BLOCK_SIZE, timer.Elapsed());\n",
        "\n",
        "\treturnValue = (cudaError_t)(returnValue | cudaDeviceSynchronize());\n",
        "\n",
        "\treturnValue = (cudaError_t)(returnValue |cudaMemcpy (scaled_data , d_scaled_data, scaled_height*scaled_width*sizeof(unsigned char), cudaMemcpyDeviceToHost ));\n",
        "\t// if(returnValue != cudaSuccess) \n",
        "\t//   printf(\"\\n Got error while running CUDA API kernel\");\n",
        "\n",
        "\t// Step 5: Destroy texture object\n",
        "\tcudaDestroyTextureObject(texObj);\n",
        "\t\n",
        "\tscr_write_pgm( outputStr, scaled_data, scaled_height, scaled_width, \"####\" ); //storing the image with the detections\n",
        "\t\t\n",
        "\tif(data != NULL)\n",
        "\t\tfree(data);\n",
        "\tif(cu_array !=NULL)\n",
        "\t\tcudaFreeArray(cu_array);\n",
        "\tif(scaled_data != NULL)\n",
        "\t\tfree(scaled_data);\n",
        "\tif(d_scaled_data!=NULL)\n",
        "\t\tcudaFree(d_scaled_data);\n",
        "\t\n",
        "\treturn 0;\n",
        "}"
      ],
      "metadata": {
        "colab": {
          "base_uri": "https://localhost:8080/"
        },
        "id": "57YjGSE3RFaX",
        "outputId": "87048629-5874-4430-d78e-df594ca00bd4"
      },
      "execution_count": null,
      "outputs": [
        {
          "output_type": "stream",
          "name": "stdout",
          "text": [
            "Overwriting image_scaling.cu\n"
          ]
        }
      ]
    },
    {
      "cell_type": "code",
      "source": [
        "!nvcc -o image_scaling image_scaling.cu CUDA-Lab02/scrImagePgmPpmPackage.cpp "
      ],
      "metadata": {
        "colab": {
          "base_uri": "https://localhost:8080/"
        },
        "id": "I9jtQ902SjV-",
        "outputId": "374cff87-f282-49cc-93bd-f152c87a2f4e"
      },
      "execution_count": null,
      "outputs": [
        {
          "output_type": "stream",
          "name": "stdout",
          "text": [
            "image_scaling.cu(103): warning: conversion from a string literal to \"char *\" is deprecated\n",
            "\n",
            "image_scaling.cu(103): warning: conversion from a string literal to \"char *\" is deprecated\n",
            "\n",
            "\u001b[01m\u001b[Kimage_scaling.cu:\u001b[m\u001b[K In function ‘\u001b[01m\u001b[Kint main(int, char**)\u001b[m\u001b[K’:\n",
            "\u001b[01m\u001b[Kimage_scaling.cu:50:149:\u001b[m\u001b[K \u001b[01;35m\u001b[Kwarning: \u001b[m\u001b[K‘\u001b[01m\u001b[KcudaError_t cudaMemcpyToArray(cudaArray_t, size_t, size_t, const void*, size_t, cudaMemcpyKind)\u001b[m\u001b[K’ is deprecated [\u001b[01;35m\u001b[K-Wdeprecated-declarations\u001b[m\u001b[K]\n",
            "  returnValue = (cudaError_t)(returnValue | cudaMemcpyToArray( cu_array, 0, 0, data, height * width * sizeof(unsigned char), cudaMemcpyHostToDevice))\u001b[01;35m\u001b[K;\u001b[m\u001b[K\n",
            "                                                                                                                                                     \u001b[01;35m\u001b[K^\u001b[m\u001b[K\n",
            "\u001b[01m\u001b[K/usr/local/cuda/bin/../targets/x86_64-linux/include/cuda_runtime_api.h:7108:46:\u001b[m\u001b[K \u001b[01;36m\u001b[Knote: \u001b[m\u001b[Kdeclared here\n",
            " extern __CUDA_DEPRECATED __host__ cudaError_t\u001b[01;36m\u001b[K CUDARTAPI cudaMe\u001b[m\u001b[KmcpyToArray(cudaArray_t dst, size_t wOffset, size_t hOffset, const void *src, size_t count, enum cudaMemcpyKind kind);\n",
            "                                              \u001b[01;36m\u001b[K^~~~~~~~~~~~~~~~~\u001b[m\u001b[K\n",
            "\u001b[01m\u001b[KCUDA-Lab02/scrImagePgmPpmPackage.cpp:\u001b[m\u001b[K In function ‘\u001b[01m\u001b[Kint scr_read_pgm(char*, unsigned char*, int, int)\u001b[m\u001b[K’:\n",
            "\u001b[01m\u001b[KCUDA-Lab02/scrImagePgmPpmPackage.cpp:84:36:\u001b[m\u001b[K \u001b[01;35m\u001b[Kwarning: \u001b[m\u001b[Kformat ‘\u001b[01m\u001b[K%d\u001b[m\u001b[K’ expects argument of type ‘\u001b[01m\u001b[Kint*\u001b[m\u001b[K’, but argument 3 has type ‘\u001b[01m\u001b[Kunsigned char*\u001b[m\u001b[K’ [\u001b[01;35m\u001b[K-Wformat=\u001b[m\u001b[K]\n",
            "     if( EOF == fscanf(fdin,\"%d\",tpt\u001b[01;35m\u001b[K)\u001b[m\u001b[K )\n",
            "                                    \u001b[01;35m\u001b[K^\u001b[m\u001b[K\n",
            "\u001b[01m\u001b[KCUDA-Lab02/scrImagePgmPpmPackage.cpp:\u001b[m\u001b[K In function ‘\u001b[01m\u001b[Kint scr_read_ppm(char*, unsigned char*, int, int)\u001b[m\u001b[K’:\n",
            "\u001b[01m\u001b[KCUDA-Lab02/scrImagePgmPpmPackage.cpp:192:38:\u001b[m\u001b[K \u001b[01;35m\u001b[Kwarning: \u001b[m\u001b[Kformat ‘\u001b[01m\u001b[K%d\u001b[m\u001b[K’ expects argument of type ‘\u001b[01m\u001b[Kint*\u001b[m\u001b[K’, but argument 3 has type ‘\u001b[01m\u001b[Kunsigned char*\u001b[m\u001b[K’ [\u001b[01;35m\u001b[K-Wformat=\u001b[m\u001b[K]\n",
            "     if( EOF == fscanf(fdin,\"%d\",\u001b[32m\u001b[Ktpt+2\u001b[m\u001b[K\u001b[01;35m\u001b[K)\u001b[m\u001b[K )\n",
            "                                 \u001b[32m\u001b[K~~~~~\u001b[m\u001b[K\u001b[01;35m\u001b[K^\u001b[m\u001b[K\n",
            "\u001b[01m\u001b[KCUDA-Lab02/scrImagePgmPpmPackage.cpp:194:38:\u001b[m\u001b[K \u001b[01;35m\u001b[Kwarning: \u001b[m\u001b[Kformat ‘\u001b[01m\u001b[K%d\u001b[m\u001b[K’ expects argument of type ‘\u001b[01m\u001b[Kint*\u001b[m\u001b[K’, but argument 3 has type ‘\u001b[01m\u001b[Kunsigned char*\u001b[m\u001b[K’ [\u001b[01;35m\u001b[K-Wformat=\u001b[m\u001b[K]\n",
            "     if( EOF == fscanf(fdin,\"%d\",\u001b[32m\u001b[Ktpt+1\u001b[m\u001b[K\u001b[01;35m\u001b[K)\u001b[m\u001b[K )\n",
            "                                 \u001b[32m\u001b[K~~~~~\u001b[m\u001b[K\u001b[01;35m\u001b[K^\u001b[m\u001b[K\n",
            "\u001b[01m\u001b[KCUDA-Lab02/scrImagePgmPpmPackage.cpp:196:36:\u001b[m\u001b[K \u001b[01;35m\u001b[Kwarning: \u001b[m\u001b[Kformat ‘\u001b[01m\u001b[K%d\u001b[m\u001b[K’ expects argument of type ‘\u001b[01m\u001b[Kint*\u001b[m\u001b[K’, but argument 3 has type ‘\u001b[01m\u001b[Kunsigned char*\u001b[m\u001b[K’ [\u001b[01;35m\u001b[K-Wformat=\u001b[m\u001b[K]\n",
            "     if( EOF == fscanf(fdin,\"%d\",tpt\u001b[01;35m\u001b[K)\u001b[m\u001b[K )\n",
            "                                    \u001b[01;35m\u001b[K^\u001b[m\u001b[K\n"
          ]
        }
      ]
    },
    {
      "cell_type": "markdown",
      "source": [
        "running: `/image_scaling <#threads> <image path>`\n",
        "\n",
        "\n"
      ],
      "metadata": {
        "id": "CWJBy_9jUmHp"
      }
    },
    {
      "cell_type": "code",
      "source": [
        "!./image_scaling 32 CUDA-Lab02/aerosmith-double.pgm"
      ],
      "metadata": {
        "colab": {
          "base_uri": "https://localhost:8080/"
        },
        "id": "v3hvmYZZTK9l",
        "outputId": "f48968eb-5dc3-4158-e200-9d1e8173bf00"
      },
      "execution_count": null,
      "outputs": [
        {
          "output_type": "stream",
          "name": "stdout",
          "text": [
            "CUDA-Lab02/aerosmith-double.pgm,32,0.042656\n"
          ]
        }
      ]
    },
    {
      "cell_type": "code",
      "source": [
        "%%writefile run.sh\n",
        "#!/usr/bin/env bash\n",
        "\n",
        "echo \"image,threads,time\" > results.csv\n",
        "\n",
        "for i in \"aerosmith-double.pgm\" \"voyager2.pgm\" ; do\n",
        "  for t in 16 32 64; do\n",
        "    ./image_scaling $t \"CUDA-Lab02/$i\" >> results.csv\n",
        "  done\n",
        "done\n"
      ],
      "metadata": {
        "colab": {
          "base_uri": "https://localhost:8080/"
        },
        "id": "KFiLzm8pUvG4",
        "outputId": "ed71d9ee-5944-4b52-817e-ad14ce0b5b0e"
      },
      "execution_count": null,
      "outputs": [
        {
          "output_type": "stream",
          "name": "stdout",
          "text": [
            "Overwriting run.sh\n"
          ]
        }
      ]
    },
    {
      "cell_type": "code",
      "source": [
        "!chmod +x run.sh\n",
        "!./run.sh"
      ],
      "metadata": {
        "id": "AAXbZsV4VYbh"
      },
      "execution_count": null,
      "outputs": []
    },
    {
      "cell_type": "code",
      "source": [
        "results = pd.read_csv('results.csv')\n",
        "results"
      ],
      "metadata": {
        "colab": {
          "base_uri": "https://localhost:8080/",
          "height": 238
        },
        "id": "em05T_ooVcMp",
        "outputId": "6b7136b0-a44d-456f-bfac-862a241d411c"
      },
      "execution_count": null,
      "outputs": [
        {
          "output_type": "execute_result",
          "data": {
            "text/plain": [
              "                             image  threads      time\n",
              "0  CUDA-Lab02/aerosmith-double.pgm       16  0.036704\n",
              "1  CUDA-Lab02/aerosmith-double.pgm       32  0.039616\n",
              "2  CUDA-Lab02/aerosmith-double.pgm       64  0.009184\n",
              "3          CUDA-Lab02/voyager2.pgm       16  0.078720\n",
              "4          CUDA-Lab02/voyager2.pgm       32  0.092544\n",
              "5          CUDA-Lab02/voyager2.pgm       64  0.008928"
            ],
            "text/html": [
              "\n",
              "  <div id=\"df-39d0efe1-acdd-431a-a641-96448459a6fc\">\n",
              "    <div class=\"colab-df-container\">\n",
              "      <div>\n",
              "<style scoped>\n",
              "    .dataframe tbody tr th:only-of-type {\n",
              "        vertical-align: middle;\n",
              "    }\n",
              "\n",
              "    .dataframe tbody tr th {\n",
              "        vertical-align: top;\n",
              "    }\n",
              "\n",
              "    .dataframe thead th {\n",
              "        text-align: right;\n",
              "    }\n",
              "</style>\n",
              "<table border=\"1\" class=\"dataframe\">\n",
              "  <thead>\n",
              "    <tr style=\"text-align: right;\">\n",
              "      <th></th>\n",
              "      <th>image</th>\n",
              "      <th>threads</th>\n",
              "      <th>time</th>\n",
              "    </tr>\n",
              "  </thead>\n",
              "  <tbody>\n",
              "    <tr>\n",
              "      <th>0</th>\n",
              "      <td>CUDA-Lab02/aerosmith-double.pgm</td>\n",
              "      <td>16</td>\n",
              "      <td>0.036704</td>\n",
              "    </tr>\n",
              "    <tr>\n",
              "      <th>1</th>\n",
              "      <td>CUDA-Lab02/aerosmith-double.pgm</td>\n",
              "      <td>32</td>\n",
              "      <td>0.039616</td>\n",
              "    </tr>\n",
              "    <tr>\n",
              "      <th>2</th>\n",
              "      <td>CUDA-Lab02/aerosmith-double.pgm</td>\n",
              "      <td>64</td>\n",
              "      <td>0.009184</td>\n",
              "    </tr>\n",
              "    <tr>\n",
              "      <th>3</th>\n",
              "      <td>CUDA-Lab02/voyager2.pgm</td>\n",
              "      <td>16</td>\n",
              "      <td>0.078720</td>\n",
              "    </tr>\n",
              "    <tr>\n",
              "      <th>4</th>\n",
              "      <td>CUDA-Lab02/voyager2.pgm</td>\n",
              "      <td>32</td>\n",
              "      <td>0.092544</td>\n",
              "    </tr>\n",
              "    <tr>\n",
              "      <th>5</th>\n",
              "      <td>CUDA-Lab02/voyager2.pgm</td>\n",
              "      <td>64</td>\n",
              "      <td>0.008928</td>\n",
              "    </tr>\n",
              "  </tbody>\n",
              "</table>\n",
              "</div>\n",
              "      <button class=\"colab-df-convert\" onclick=\"convertToInteractive('df-39d0efe1-acdd-431a-a641-96448459a6fc')\"\n",
              "              title=\"Convert this dataframe to an interactive table.\"\n",
              "              style=\"display:none;\">\n",
              "        \n",
              "  <svg xmlns=\"http://www.w3.org/2000/svg\" height=\"24px\"viewBox=\"0 0 24 24\"\n",
              "       width=\"24px\">\n",
              "    <path d=\"M0 0h24v24H0V0z\" fill=\"none\"/>\n",
              "    <path d=\"M18.56 5.44l.94 2.06.94-2.06 2.06-.94-2.06-.94-.94-2.06-.94 2.06-2.06.94zm-11 1L8.5 8.5l.94-2.06 2.06-.94-2.06-.94L8.5 2.5l-.94 2.06-2.06.94zm10 10l.94 2.06.94-2.06 2.06-.94-2.06-.94-.94-2.06-.94 2.06-2.06.94z\"/><path d=\"M17.41 7.96l-1.37-1.37c-.4-.4-.92-.59-1.43-.59-.52 0-1.04.2-1.43.59L10.3 9.45l-7.72 7.72c-.78.78-.78 2.05 0 2.83L4 21.41c.39.39.9.59 1.41.59.51 0 1.02-.2 1.41-.59l7.78-7.78 2.81-2.81c.8-.78.8-2.07 0-2.86zM5.41 20L4 18.59l7.72-7.72 1.47 1.35L5.41 20z\"/>\n",
              "  </svg>\n",
              "      </button>\n",
              "      \n",
              "  <style>\n",
              "    .colab-df-container {\n",
              "      display:flex;\n",
              "      flex-wrap:wrap;\n",
              "      gap: 12px;\n",
              "    }\n",
              "\n",
              "    .colab-df-convert {\n",
              "      background-color: #E8F0FE;\n",
              "      border: none;\n",
              "      border-radius: 50%;\n",
              "      cursor: pointer;\n",
              "      display: none;\n",
              "      fill: #1967D2;\n",
              "      height: 32px;\n",
              "      padding: 0 0 0 0;\n",
              "      width: 32px;\n",
              "    }\n",
              "\n",
              "    .colab-df-convert:hover {\n",
              "      background-color: #E2EBFA;\n",
              "      box-shadow: 0px 1px 2px rgba(60, 64, 67, 0.3), 0px 1px 3px 1px rgba(60, 64, 67, 0.15);\n",
              "      fill: #174EA6;\n",
              "    }\n",
              "\n",
              "    [theme=dark] .colab-df-convert {\n",
              "      background-color: #3B4455;\n",
              "      fill: #D2E3FC;\n",
              "    }\n",
              "\n",
              "    [theme=dark] .colab-df-convert:hover {\n",
              "      background-color: #434B5C;\n",
              "      box-shadow: 0px 1px 3px 1px rgba(0, 0, 0, 0.15);\n",
              "      filter: drop-shadow(0px 1px 2px rgba(0, 0, 0, 0.3));\n",
              "      fill: #FFFFFF;\n",
              "    }\n",
              "  </style>\n",
              "\n",
              "      <script>\n",
              "        const buttonEl =\n",
              "          document.querySelector('#df-39d0efe1-acdd-431a-a641-96448459a6fc button.colab-df-convert');\n",
              "        buttonEl.style.display =\n",
              "          google.colab.kernel.accessAllowed ? 'block' : 'none';\n",
              "\n",
              "        async function convertToInteractive(key) {\n",
              "          const element = document.querySelector('#df-39d0efe1-acdd-431a-a641-96448459a6fc');\n",
              "          const dataTable =\n",
              "            await google.colab.kernel.invokeFunction('convertToInteractive',\n",
              "                                                     [key], {});\n",
              "          if (!dataTable) return;\n",
              "\n",
              "          const docLinkHtml = 'Like what you see? Visit the ' +\n",
              "            '<a target=\"_blank\" href=https://colab.research.google.com/notebooks/data_table.ipynb>data table notebook</a>'\n",
              "            + ' to learn more about interactive tables.';\n",
              "          element.innerHTML = '';\n",
              "          dataTable['output_type'] = 'display_data';\n",
              "          await google.colab.output.renderOutput(dataTable, element);\n",
              "          const docLink = document.createElement('div');\n",
              "          docLink.innerHTML = docLinkHtml;\n",
              "          element.appendChild(docLink);\n",
              "        }\n",
              "      </script>\n",
              "    </div>\n",
              "  </div>\n",
              "  "
            ]
          },
          "metadata": {},
          "execution_count": 98
        }
      ]
    },
    {
      "cell_type": "code",
      "source": [
        "plt.figure(figsize=(10,10))\n",
        "\n",
        "aerosmith = results[ results['image'] == 'CUDA-Lab02/aerosmith-double.pgm']\n",
        "voyager = results[ results['image'] == 'CUDA-Lab02/voyager2.pgm']\n",
        "\n",
        "plt.scatter(aerosmith['threads'],aerosmith['time'],c='r',label='aerosmith')\n",
        "plt.scatter(voyager['threads'],voyager['time'],c='b',label='voyager')\n",
        "\n",
        "plt.legend()\n",
        "plt.title(f'Czas wykonania w zależności od ilości wątków w bloku')\n",
        "plt.xlabel('ilość wątków')\n",
        "plt.ylabel(f'czas [ms]')\n",
        "plt.show()"
      ],
      "metadata": {
        "colab": {
          "base_uri": "https://localhost:8080/",
          "height": 623
        },
        "id": "lX1whLzBVg58",
        "outputId": "1c0516ae-a54f-472f-dacf-142b1c5915c0"
      },
      "execution_count": null,
      "outputs": [
        {
          "output_type": "display_data",
          "data": {
            "text/plain": [
              "<Figure size 720x720 with 1 Axes>"
            ],
            "image/png": "[encoded data removed]"
          },
          "metadata": {
            "needs_background": "light"
          }
        }
      ]
    }
  ]
}