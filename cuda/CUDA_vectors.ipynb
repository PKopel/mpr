{
  "nbformat": 4,
  "nbformat_minor": 0,
  "metadata": {
    "colab": {
      "name": "Untitled3.ipynb",
      "provenance": [],
      "collapsed_sections": [],
      "authorship_tag": "ABX9TyOExEqldz/hmLOHHUMGcSMX",
      "include_colab_link": true
    },
    "kernelspec": {
      "name": "python3",
      "display_name": "Python 3"
    },
    "language_info": {
      "name": "python"
    }
  },
  "cells": [
    {
      "cell_type": "markdown",
      "metadata": {
        "id": "view-in-github",
        "colab_type": "text"
      },
      "source": [
        "<a href=\"https://colab.research.google.com/github/PKopel/mpr/blob/main/CUDA_vectors.ipynb\" target=\"_parent\"><img src=\"https://colab.research.google.com/assets/colab-badge.svg\" alt=\"Open In Colab\"/></a>"
      ]
    },
    {
      "cell_type": "code",
      "execution_count": 1,
      "metadata": {
        "colab": {
          "base_uri": "https://localhost:8080/"
        },
        "id": "TgDhWe9OySof",
        "outputId": "db647b2f-f5c3-45c9-b8c0-ad5cc0dafc9f"
      },
      "outputs": [
        {
          "output_type": "stream",
          "name": "stdout",
          "text": [
            "nvcc: NVIDIA (R) Cuda compiler driver\n",
            "Copyright (c) 2005-2020 NVIDIA Corporation\n",
            "Built on Mon_Oct_12_20:09:46_PDT_2020\n",
            "Cuda compilation tools, release 11.1, V11.1.105\n",
            "Build cuda_11.1.TC455_06.29190527_0\n"
          ]
        }
      ],
      "source": [
        "!nvcc --version"
      ]
    },
    {
      "cell_type": "code",
      "source": [
        "!nvidia-smi"
      ],
      "metadata": {
        "colab": {
          "base_uri": "https://localhost:8080/"
        },
        "id": "EWg2Ampnyisu",
        "outputId": "04a0b999-3b33-41fc-e0d8-4301c49945c0"
      },
      "execution_count": 1,
      "outputs": [
        {
          "output_type": "stream",
          "name": "stdout",
          "text": [
            "Mon May 30 21:06:33 2022       \n",
            "+-----------------------------------------------------------------------------+\n",
            "| NVIDIA-SMI 460.32.03    Driver Version: 460.32.03    CUDA Version: 11.2     |\n",
            "|-------------------------------+----------------------+----------------------+\n",
            "| GPU  Name        Persistence-M| Bus-Id        Disp.A | Volatile Uncorr. ECC |\n",
            "| Fan  Temp  Perf  Pwr:Usage/Cap|         Memory-Usage | GPU-Util  Compute M. |\n",
            "|                               |                      |               MIG M. |\n",
            "|===============================+======================+======================|\n",
            "|   0  Tesla T4            Off  | 00000000:00:04.0 Off |                    0 |\n",
            "| N/A   45C    P8    11W /  70W |      0MiB / 15109MiB |      0%      Default |\n",
            "|                               |                      |                  N/A |\n",
            "+-------------------------------+----------------------+----------------------+\n",
            "                                                                               \n",
            "+-----------------------------------------------------------------------------+\n",
            "| Processes:                                                                  |\n",
            "|  GPU   GI   CI        PID   Type   Process name                  GPU Memory |\n",
            "|        ID   ID                                                   Usage      |\n",
            "|=============================================================================|\n",
            "|  No running processes found                                                 |\n",
            "+-----------------------------------------------------------------------------+\n"
          ]
        }
      ]
    },
    {
      "cell_type": "code",
      "source": [
        "%%writefile gputimer.h\n",
        "#ifndef __GPU_TIMER_H__\n",
        "#define __GPU_TIMER_H__\n",
        "\n",
        "class GpuTimer\n",
        "{\n",
        "    public:\n",
        "      cudaEvent_t start;\n",
        "      cudaEvent_t stop;\n",
        " \n",
        "      GpuTimer()\n",
        "      {\n",
        "            cudaEventCreate(&start);\n",
        "            cudaEventCreate(&stop);\n",
        "      }\n",
        " \n",
        "      ~GpuTimer()\n",
        "      {\n",
        "            cudaEventDestroy(start);\n",
        "            cudaEventDestroy(stop);\n",
        "      }\n",
        " \n",
        "      void Start()\n",
        "      {\n",
        "            cudaEventRecord(start, 0);\n",
        "      }\n",
        " \n",
        "      void Stop()\n",
        "      {\n",
        "            cudaEventRecord(stop, 0);\n",
        "      }\n",
        " \n",
        "      float Elapsed()\n",
        "      {\n",
        "            float elapsed;\n",
        "            cudaEventSynchronize(stop);\n",
        "            cudaEventElapsedTime(&elapsed, start, stop);\n",
        "            return elapsed;\n",
        "      }\n",
        "};\n",
        "\n",
        "#endif  /* __GPU_TIMER_H__ */"
      ],
      "metadata": {
        "colab": {
          "base_uri": "https://localhost:8080/"
        },
        "id": "U-JLmsO70uHA",
        "outputId": "19928da9-4c1a-4c2c-d134-b327d1aa15e2"
      },
      "execution_count": 23,
      "outputs": [
        {
          "output_type": "stream",
          "name": "stdout",
          "text": [
            "Overwriting gputimer.h\n"
          ]
        }
      ]
    },
    {
      "cell_type": "code",
      "source": [
        "%%writefile vector_add.cu\n",
        "#include <stdio.h>\n",
        "#include <stdlib.h>\n",
        "#include <time.h> \n",
        "#include \"gputimer.h\"\n",
        "\n",
        "extern \"C\" __global__ void vectorAdd(const float *A, const float *B, float *C,\n",
        "                                     int numElements) {\n",
        "  int i = blockDim.x * blockIdx.x + threadIdx.x;\n",
        "\n",
        "  if (i < numElements) {\n",
        "    C[i] = A[i] + B[i];\n",
        "  }\n",
        "}\n",
        "\n",
        "void cpuVectorAdd(float* A, float* B, float* C, int N){\n",
        "\t\n",
        "\tfor(int i=0; i < N; i++){\n",
        "\t\tC[i] = A[i] + B[i];\n",
        "\t}\n",
        "}\n",
        "\n",
        "\n",
        "int main(int argc, char *argv[]) {\n",
        "    \n",
        "    if (argc < 4) {\n",
        "        exit(1);\n",
        "    }\n",
        "    int threads_per_block = atoi(argv[1]);\n",
        "    int blocks_per_grid = atoi(argv[2]);\n",
        "    int N = atoi(argv[3]);\n",
        "    size_t size = N*sizeof(float);\n",
        "    \n",
        "    float* h_a;\n",
        "    float* h_b;\n",
        "    float* h_c;\n",
        "    cudaMallocHost(&h_a, size);\n",
        "    cudaMallocHost(&h_b, size);\n",
        "    cudaMallocHost(&h_c, size);\n",
        "    float* h_c2 = (float*)malloc(size);\n",
        "    \n",
        "    for(int i = 0;i<N;i++){\n",
        "        h_a[i] = 1.5;\n",
        "        h_b[i] = 2.7;\n",
        "    }\n",
        "    \n",
        "    float* d_a;\n",
        "    cudaMalloc(&d_a, size);\n",
        "\n",
        "    float* d_b;\n",
        "    cudaMalloc(&d_b, size);\n",
        "\n",
        "    float* d_c;\n",
        "    cudaMalloc(&d_c, size);\n",
        "    \n",
        "    cudaMemcpy(d_a, h_a, size, cudaMemcpyHostToDevice);\n",
        "    cudaMemcpy(d_b, h_b, size, cudaMemcpyHostToDevice);\n",
        "        \n",
        "    GpuTimer timer;\n",
        "    timer.Start();\n",
        "\n",
        "    vectorAdd<<<blocks_per_grid, threads_per_block>>>(d_a, d_b, d_c, N);\n",
        "    \n",
        "    cudaDeviceSynchronize();\n",
        "    timer.Stop();\n",
        "    printf(\"%f\\n\", timer.Elapsed());\n",
        "\n",
        "    timer.Start();\n",
        "\n",
        "    cpuVectorAdd(h_a, h_b, h_c2, N);\n",
        "    \n",
        "    timer.Stop();\n",
        "    printf(\"%f\\n\", timer.Elapsed());\n",
        "    \n",
        "    cudaMemcpy(h_c, d_c, size, cudaMemcpyDeviceToHost);\n",
        "    \n",
        "    for(int i = 0; i<5;i++){\n",
        "        printf(\"%f \", h_c[i]);\n",
        "    }\n",
        "\n",
        "    printf(\"\\n\");\n",
        "\n",
        "    for(int i = N-1; i>N-6;i--){\n",
        "        printf(\"%f \", h_c[i]);\n",
        "    }\n",
        "\n",
        "    printf(\"\\n\");\n",
        "\n",
        "    cudaFree(d_a);\n",
        "    cudaFree(d_b);\n",
        "    cudaFree(d_c);\n",
        "\n",
        "    cudaFreeHost(h_a);\n",
        "    cudaFreeHost(h_b);\n",
        "    cudaFreeHost(h_c);\n",
        "    \n",
        "    return 0;\n",
        "}"
      ],
      "metadata": {
        "colab": {
          "base_uri": "https://localhost:8080/"
        },
        "id": "97mmpGcmzd-A",
        "outputId": "8a033647-d809-4ba5-d97c-74da0a54209b"
      },
      "execution_count": 29,
      "outputs": [
        {
          "output_type": "stream",
          "name": "stdout",
          "text": [
            "Overwriting vector_add.cu\n"
          ]
        }
      ]
    },
    {
      "cell_type": "code",
      "source": [
        "!nvcc -o vector_add vector_add.cu"
      ],
      "metadata": {
        "id": "MAmllKJc0LcT"
      },
      "execution_count": 30,
      "outputs": []
    }
  ]
}